{
 "cells": [
  {
   "cell_type": "markdown",
   "id": "2797b223-5b0a-46e8-b0e3-a22eb761a051",
   "metadata": {},
   "source": [
    "# [TITLE]\n",
    "UEP-239 Final Project\\\n",
    "By: Justina Cheng"
   ]
  },
  {
   "cell_type": "markdown",
   "id": "a833dec5-13ce-4f12-a65a-b837f49a2931",
   "metadata": {},
   "source": [
    "[DESCRIPTION]"
   ]
  },
  {
   "cell_type": "markdown",
   "id": "f43d37ea-783d-4bd1-9b1c-1a6e3da20df3",
   "metadata": {},
   "source": [
    "## Import Dependencies"
   ]
  },
  {
   "cell_type": "code",
   "execution_count": 1,
   "id": "b0f3d2fa-1689-48de-b9f0-f42e6bebbe6f",
   "metadata": {},
   "outputs": [],
   "source": [
    "import numpy as np\n",
    "import pandas as pd\n",
    "import geopandas as gpd\n",
    "import matplotlib.pyplot as plt\n",
    "import seaborn as sns\n",
    "import math\n",
    "from scipy import stats\n",
    "\n",
    "import folium\n",
    "from folium import Choropleth, Circle, Marker\n",
    "from folium.plugins import HeatMap, MarkerCluster\n",
    "\n",
    "import osmnx as ox\n",
    "import networkx as nx\n",
    "from geopy.geocoders import Nominatim\n",
    "from pyproj import CRS\n",
    "from shapely.geometry import LineString, Point, Polygon, box\n",
    "\n",
    "import rasterio\n",
    "from rasterio.plot import show\n",
    "from rasterio import features\n",
    "\n",
    "import richdem as rd\n",
    "from scipy import ndimage\n",
    "from rasterstats import zonal_stats"
   ]
  },
  {
   "cell_type": "code",
   "execution_count": null,
   "id": "e383e305-3429-463d-b0c1-b0dc8b9f2747",
   "metadata": {},
   "outputs": [],
   "source": []
  }
 ],
 "metadata": {
  "kernelspec": {
   "display_name": "Python 3",
   "language": "python",
   "name": "python3"
  },
  "language_info": {
   "codemirror_mode": {
    "name": "ipython",
    "version": 3
   },
   "file_extension": ".py",
   "mimetype": "text/x-python",
   "name": "python",
   "nbconvert_exporter": "python",
   "pygments_lexer": "ipython3",
   "version": "3.8.8"
  }
 },
 "nbformat": 4,
 "nbformat_minor": 5
}
