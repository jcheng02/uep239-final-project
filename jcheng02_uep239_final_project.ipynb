{
 "cells": [
  {
   "cell_type": "markdown",
   "id": "2797b223-5b0a-46e8-b0e3-a22eb761a051",
   "metadata": {},
   "source": [
    "# Suitability Analysis: Best ZCTA Within the Boston Region to Live Without a Car \n",
    "UEP-239 Final Project\\\n",
    "By: Justina Cheng"
   ]
  },
  {
   "cell_type": "markdown",
   "id": "a833dec5-13ce-4f12-a65a-b837f49a2931",
   "metadata": {},
   "source": [
    "The purpose of this suitability analysis is to find the best Zip Code Tabulation Area (ZCTA) within the Boston region to live without a car. The original self-serving conception was to find the best ZCTA for a Tufts University student and a Boston University (BU) student to live together without a car (i.e. somewhere equally convenient for both), but the scope was changed for a more general analysis. The locations of Tufts and BU were  still used as a guide and as landmarks for the analysis."
   ]
  },
  {
   "cell_type": "markdown",
   "id": "f463a5b3-fbf1-4ff0-a568-9c26cf5d0238",
   "metadata": {},
   "source": [
    "---"
   ]
  },
  {
   "cell_type": "markdown",
   "id": "f43d37ea-783d-4bd1-9b1c-1a6e3da20df3",
   "metadata": {},
   "source": [
    "## Import Dependencies"
   ]
  },
  {
   "cell_type": "code",
   "execution_count": null,
   "id": "b0f3d2fa-1689-48de-b9f0-f42e6bebbe6f",
   "metadata": {},
   "outputs": [],
   "source": [
    "import numpy as np\n",
    "import pandas as pd\n",
    "import geopandas as gpd\n",
    "import matplotlib.pyplot as plt\n",
    "import seaborn as sns\n",
    "import math\n",
    "import statistics\n",
    "from scipy import stats\n",
    "\n",
    "import folium\n",
    "from folium import Choropleth, Circle, Marker\n",
    "from folium.plugins import HeatMap, MarkerCluster\n",
    "\n",
    "import osmnx as ox\n",
    "import networkx as nx\n",
    "from geopy.geocoders import Nominatim\n",
    "from pyproj import CRS\n",
    "from shapely.geometry import LineString, Point, Polygon, box\n",
    "\n",
    "import rasterio\n",
    "from rasterio.plot import show\n",
    "from rasterio import features\n",
    "\n",
    "import richdem as rd\n",
    "from scipy import ndimage\n",
    "from rasterstats import zonal_stats"
   ]
  },
  {
   "cell_type": "markdown",
   "id": "ffa08ff9-9a85-4837-af80-3c493bf5cbcf",
   "metadata": {},
   "source": [
    "---"
   ]
  },
  {
   "cell_type": "markdown",
   "id": "54489ff9-afe7-4b59-92a4-58fe7b022b30",
   "metadata": {},
   "source": [
    "## Create and View Base Map of Boston Region Zip Code Tabulation Areas (ZCTAs)\n",
    "To create a GeoDataFrame of the Boston Region ZCTAs, the following steps were used:\n",
    "1. Massachusetts outline with detailed coastline was imported from MassGIS as a GeoDataFrame.\n",
    "1. Massachusetts ZCTAs were imported from the Census Bureau as a GeoDataFrame.\n",
    "1. The outline and ZCTAs GeoDataFrames were converted to the coordinate reference system (CRS) for the Massachusetts Mainland EPSG 6491.\n",
    "1. Boundaries for the Boston Region Metropolitan Planning Organization (MPO) were imported from MassDOT as a GeoDataFrame, and the CRS was converted to EPSG 6491.\n",
    "1. The Boston Region was extracted from the MPO.\n",
    "1. Massachusetts ZCTAs within the Boston Region were extracted using the centroid of the ZCTAs.\n",
    "1. Function `convert_n_clip` was created to convert a GDF to the CRS of another GDF and clip to the other's extent.\n",
    "1. Function `read_n_clip` was created to read in a shapefile and use `convert_n_clip` to convert it to the CRS of another GDF and clip to the other's extent.\n",
    "1. Massachusetts Surface Water data from MassGIS was processed with `read_n_clip` with the extent of Boston ZCTAs. "
   ]
  },
  {
   "cell_type": "markdown",
   "id": "b94f01b1-d69d-4937-b744-6f31c9fb0fbd",
   "metadata": {},
   "source": [
    "### Massachusetts Coastline"
   ]
  },
  {
   "cell_type": "code",
   "execution_count": null,
   "id": "a5fffcdb-8f8c-435e-b250-c0af86dd30ad",
   "metadata": {
    "tags": []
   },
   "outputs": [],
   "source": [
    "# Import outline of detailed Massachusetts coastline.\n",
    "outline_25k = gpd.read_file(\"./data/outline25k/OUTLINE25K_POLY.shp\")\n",
    "outline_25k.info()"
   ]
  },
  {
   "cell_type": "code",
   "execution_count": null,
   "id": "9852aa5e-97b0-4d11-b516-523ca2d22d81",
   "metadata": {
    "tags": []
   },
   "outputs": [],
   "source": [
    "# View CRS and plot.\n",
    "print(outline_25k.crs)\n",
    "outline_25k.plot(figsize=(12,12))\n",
    "plt.title('Massachusetts Detailed Coastline', fontsize=16)\n",
    "plt.show()"
   ]
  },
  {
   "cell_type": "markdown",
   "id": "3b544615-97e9-4db3-a37e-8aa4ab3d7ff2",
   "metadata": {},
   "source": [
    "### Massachusetts ZCTAs"
   ]
  },
  {
   "cell_type": "code",
   "execution_count": null,
   "id": "55132fb9-80b7-4ea7-b375-97504ccee78f",
   "metadata": {
    "tags": []
   },
   "outputs": [],
   "source": [
    "# Import Zip Code Tabulation Areas within Massachusetts.\n",
    "ma_zcta = gpd.read_file(\"./data/tl_2010_25_zcta500/tl_2010_25_zcta500.shp\")\n",
    "ma_zcta.info()"
   ]
  },
  {
   "cell_type": "code",
   "execution_count": null,
   "id": "f21df122-7108-402d-99ca-20670881ba27",
   "metadata": {
    "tags": []
   },
   "outputs": [],
   "source": [
    "# View CRS and plot.\n",
    "print(ma_zcta.crs)\n",
    "ma_zcta.plot(figsize=(12,12))\n",
    "plt.title('Massachusetts ZCTAs', fontsize=16)\n",
    "plt.show()"
   ]
  },
  {
   "cell_type": "code",
   "execution_count": null,
   "id": "cd5a775d-f89b-4d1d-99b5-fd0f11ddfc0e",
   "metadata": {},
   "outputs": [],
   "source": [
    "# Convert CRSs to Massachusetts Mainland EPSG 6491.\n",
    "outline_25k = outline_25k.to_crs('epsg:6491')\n",
    "ma_zcta = ma_zcta.to_crs('epsg:6491')\n",
    "# Confirm CRSs match.\n",
    "outline_25k.crs == ma_zcta.crs"
   ]
  },
  {
   "cell_type": "code",
   "execution_count": null,
   "id": "7ddfc2ba-3271-4c3c-b699-762b3dbaae2b",
   "metadata": {},
   "outputs": [],
   "source": [
    "# Clip ZCTA GDF to 25k MA outline.\n",
    "ma_zcta_25k = gpd.clip(ma_zcta, outline_25k)\n",
    "ma_zcta_25k.info()"
   ]
  },
  {
   "cell_type": "markdown",
   "id": "c2adfc99-bc94-4478-882a-28f4783941bf",
   "metadata": {},
   "source": [
    "### Boston Region Metropolitan Planning Organization (MPO)"
   ]
  },
  {
   "cell_type": "code",
   "execution_count": null,
   "id": "0ef7d906-f795-4831-90ce-0d3209f092b2",
   "metadata": {
    "tags": []
   },
   "outputs": [],
   "source": [
    "# Import boundaries from Boston Region Metropolitan Planning Organization.\n",
    "mpo = gpd.read_file(\"./data/MPO_Boundaries/MPO_Boundaries.shp\")\n",
    "mpo.info()"
   ]
  },
  {
   "cell_type": "code",
   "execution_count": null,
   "id": "58c50dab-0e16-4e46-a24d-552fafe5f133",
   "metadata": {},
   "outputs": [],
   "source": [
    "# View MPO dataset.\n",
    "mpo"
   ]
  },
  {
   "cell_type": "code",
   "execution_count": null,
   "id": "c69752ed-9aab-4828-96fd-d9b9b82ac348",
   "metadata": {
    "tags": []
   },
   "outputs": [],
   "source": [
    "# Convert MPO CRS to EPSG 6491 and plot.\n",
    "mpo = mpo.to_crs('epsg:6491')\n",
    "mpo.plot(figsize=(12,12))\n",
    "plt.title('Boston Region MPO Boundaries', fontsize=16)\n",
    "plt.show()"
   ]
  },
  {
   "cell_type": "code",
   "execution_count": null,
   "id": "4d802e3a-fbcb-401c-a759-dc44c4223135",
   "metadata": {
    "tags": []
   },
   "outputs": [],
   "source": [
    "# Extract only Boston Region from MPO.\n",
    "boston_region = mpo.loc[mpo.MPO == 'Boston Region'].reset_index()\n",
    "boston_region"
   ]
  },
  {
   "cell_type": "code",
   "execution_count": null,
   "id": "832d30af-13f8-4d26-9ab6-a91ae0a4de61",
   "metadata": {},
   "outputs": [],
   "source": [
    "# Extract ZCTAs within the Boston Region using the centroid of the ZCTAs.\n",
    "boston_zcta = ma_zcta_25k[ma_zcta_25k.centroid.within(boston_region.geometry[0])].reset_index()\n",
    "boston_zcta.info()"
   ]
  },
  {
   "cell_type": "code",
   "execution_count": null,
   "id": "ee40be76-7560-44d6-9a2d-5449993b283f",
   "metadata": {},
   "outputs": [],
   "source": [
    "# View the Boston Region ZCTAs.\n",
    "boston_zcta"
   ]
  },
  {
   "cell_type": "code",
   "execution_count": null,
   "id": "f2237a5e-431d-4102-8477-5cc37eb03284",
   "metadata": {},
   "outputs": [],
   "source": [
    "# Plot the Boston Region ZCTAs.\n",
    "boston_zcta.plot(figsize=(12,12))\n",
    "plt.title('ZCTAs within Boston Region', fontsize=16)\n",
    "plt.show()"
   ]
  },
  {
   "cell_type": "markdown",
   "id": "4ea3f32c-8350-4ecd-b02b-78f9c77ae0d3",
   "metadata": {},
   "source": [
    "### Define Functions `convert_n_clip` and `read_n_clip`\n",
    "These two functions will be used to read in, convert the CRS, and clip the extent of GDFs throughout the analysis.\n",
    "\n",
    "`convert_n_clip` takes two GeoDataFrames (GDF): one to process (gdf) and one whose extent will be used to clip. The function converts the coordinate reference system (CRS) of the original GDF and clips it to the extent of the extent GDF."
   ]
  },
  {
   "cell_type": "code",
   "execution_count": null,
   "id": "14fb3c87-d0cd-4588-a7fc-238c1f3ce73a",
   "metadata": {},
   "outputs": [],
   "source": [
    "def convert_n_clip(orig_gdf, extent_gdf):\n",
    "    \"\"\"\n",
    "    Takes two GeoDataFrames (GDF): one to process (orig_gdf) and one whose extent will be used to clip (extent_gdf).\n",
    "    Converts the coordinate reference system (CRS) of the orig_gdf to the CRS of extent_gdf.\n",
    "    Clips to the extent of orig_gdf to the extent of extent_gdf.\n",
    "    Returns clipped GDF.\n",
    "    Requires GeoPandas to run.\n",
    "    \n",
    "    Inputs:\n",
    "    orig_gdf = GDF to process\n",
    "    extent_gdf = GDF whose extent to use\n",
    "    \n",
    "    Example:\n",
    "    ma_schools = convert_n_clip(usa_schools, ma_boundary)\n",
    "    \"\"\"\n",
    "    orig_gdf = orig_gdf.to_crs(extent_gdf.crs)\n",
    "    clipped_gdf = gpd.clip(orig_gdf, extent_gdf)\n",
    "    return clipped_gdf   "
   ]
  },
  {
   "cell_type": "markdown",
   "id": "7f1739b1-1e84-421a-88d5-dadce4e039d9",
   "metadata": {},
   "source": [
    "`read_n_clip` takes a filepath for a shapefile and a GDF whose extent will be used to clip the shapefile. The function reads in the shapefile and uses `convert_n_clip` to convert the coordinate reference system (CRS) of the original GDF and clip it to the extent of the extent GDF."
   ]
  },
  {
   "cell_type": "code",
   "execution_count": null,
   "id": "dfd3d1d8-407c-4f44-a8f7-37d9d319b678",
   "metadata": {},
   "outputs": [],
   "source": [
    "def read_n_clip(filepath, extent_gdf):\n",
    "    \"\"\"\n",
    "    Takes a filepath for a shapefile and a GeoDataFrame (GDF).\n",
    "    Reads in the file.\n",
    "    Uses convert_n_clip function to convert to the coordinate reference system (CRS)\n",
    "    of the GDF and clip to the extent of the GDF. \n",
    "    Returns clipped GDF.\n",
    "    Requires GeoPandas to run.\n",
    "    \n",
    "    Inputs:\n",
    "    filepath = relative filepath for shapefile to read\n",
    "    extent_gdf = GDF whose extent to use\n",
    "    \n",
    "    Example:\n",
    "    ma_water = read_n_clip('./data/usa/water.shp', ma_boundary)\n",
    "    \"\"\"\n",
    "    shapefile = gpd.read_file(filepath)\n",
    "    clipped_shapefile = convert_n_clip(shapefile, extent_gdf)\n",
    "    return clipped_shapefile"
   ]
  },
  {
   "cell_type": "markdown",
   "id": "7c330cb5-71ba-4a8e-b30f-c8fad81357fd",
   "metadata": {},
   "source": [
    "### Boston Region Surface Water"
   ]
  },
  {
   "cell_type": "code",
   "execution_count": null,
   "id": "6d558443-0e90-41e1-a376-2b29b6ddab72",
   "metadata": {},
   "outputs": [],
   "source": [
    "# read_n_clip Boston surface water.\n",
    "boston_water = read_n_clip('./data/hydro25k/HYDRO25K_POLY.shp', boston_zcta)\n",
    "print(boston_water.crs)\n",
    "boston_water.info()"
   ]
  },
  {
   "cell_type": "code",
   "execution_count": null,
   "id": "b449117d-8061-45c8-9600-58526d7a982a",
   "metadata": {
    "tags": []
   },
   "outputs": [],
   "source": [
    "# Plot the Boston Region ZCTAs with surface water.\n",
    "ax = boston_zcta.plot(color='lightgrey', edgecolor='grey', figsize=(12,12))\n",
    "boston_water.plot(ax=ax)\n",
    "plt.title('ZCTAs and Waterways within Boston Region', fontsize=16)\n",
    "plt.show()"
   ]
  },
  {
   "cell_type": "markdown",
   "id": "52e4290b-8c05-4d52-ac0b-b383a9e7c516",
   "metadata": {},
   "source": [
    "---"
   ]
  },
  {
   "cell_type": "markdown",
   "id": "0b527bd0-e30f-4b0e-a937-ab847e20bc47",
   "metadata": {},
   "source": [
    "## Find Tufts University and Boston University Locations\n",
    "To find the locations of Tufts University and Boston University (BU), the Massachusetts Colleges and Universities shapefile was processed with `read_n_clip` to read the shapefile and clip it to the extent of `boston_zcta`. Tufts and BU were then extracted into a GeoDataGrame."
   ]
  },
  {
   "cell_type": "code",
   "execution_count": null,
   "id": "c12237d8-9332-41c3-8ddb-e01998d60a1c",
   "metadata": {},
   "outputs": [],
   "source": [
    "# read_n_clip Boston MPO colleges.\n",
    "colleges = read_n_clip('./data/colleges/COLLEGES_PT.shp', boston_zcta)\n",
    "print(colleges.crs)\n",
    "colleges.info()"
   ]
  },
  {
   "cell_type": "code",
   "execution_count": null,
   "id": "1cd2b35c-aefa-4e92-91b9-eca30d3c7049",
   "metadata": {},
   "outputs": [],
   "source": [
    "# Plot Boston MPO colleges.\n",
    "ax = boston_zcta.plot(color='lightgrey', edgecolor='grey', figsize=(12,12))\n",
    "boston_water.plot(ax=ax, alpha=0.3)\n",
    "colleges.plot(ax=ax, color='maroon')\n",
    "plt.title('Colleges in Boston Region MPO', fontsize=16)\n",
    "plt.show()"
   ]
  },
  {
   "cell_type": "code",
   "execution_count": null,
   "id": "c114479f-8cfc-459a-8965-ae1544e1443f",
   "metadata": {},
   "outputs": [],
   "source": [
    "# List all college names.\n",
    "college_list = list(colleges.COLLEGE.unique())\n",
    "college_list"
   ]
  },
  {
   "cell_type": "code",
   "execution_count": null,
   "id": "529ad562-1e1a-4d04-8d18-2fd0305ed8d8",
   "metadata": {},
   "outputs": [],
   "source": [
    "# Select only names matching Tufts University or Boston University.\n",
    "colleges_select = colleges.loc[colleges.COLLEGE.isin(['Tufts University', 'Boston University'])]\n",
    "colleges_select"
   ]
  },
  {
   "cell_type": "code",
   "execution_count": null,
   "id": "890298fb-d932-4fcc-8547-99df12057fec",
   "metadata": {},
   "outputs": [],
   "source": [
    "# Select only the Medford/Somerville Tufts Campus and the main BU Campus.\n",
    "tufts_bu = colleges_select.iloc[[0, 1]]\n",
    "tufts_bu"
   ]
  },
  {
   "cell_type": "code",
   "execution_count": null,
   "id": "c9ea5a53-47e1-4ec2-90a0-5223325057c6",
   "metadata": {},
   "outputs": [],
   "source": [
    "# Plot Tufts and BU on top of the base map.\n",
    "ax = boston_zcta.plot(color='lightgrey', edgecolor='grey', figsize=(12,12))\n",
    "boston_water.plot(ax=ax, alpha=0.3)\n",
    "tufts_bu.plot(ax=ax, color='aquamarine', markersize=50)\n",
    "plt.title('Tufts University and Boston Universtiy Over Boston Region MPO', fontsize=16)\n",
    "plt.show()"
   ]
  },
  {
   "cell_type": "markdown",
   "id": "32dfd34e-56ad-4187-ba49-fdbaa35536c3",
   "metadata": {},
   "source": [
    "---"
   ]
  },
  {
   "cell_type": "markdown",
   "id": "c74ad497-51db-4cbf-ac33-e5d827b5403b",
   "metadata": {},
   "source": [
    "## Import Mass Transit Stops and Routes"
   ]
  },
  {
   "cell_type": "markdown",
   "id": "0979ce69-6c0b-4026-8bcd-9e1645a4752c",
   "metadata": {},
   "source": [
    "### MBTA Bus Stops"
   ]
  },
  {
   "cell_type": "code",
   "execution_count": null,
   "id": "662f7ac2-f35f-425c-a989-5be107f05d26",
   "metadata": {},
   "outputs": [],
   "source": [
    "# read_n_clip MBTA bus stops, check CRS, and view info.\n",
    "bos_bus = read_n_clip('./data/MBTA_Bus_Routes_and_Stops/MBTA_Bus_Routes_and_Stops.shp', boston_zcta)\n",
    "print(bos_bus.crs)\n",
    "bos_bus.info()"
   ]
  },
  {
   "cell_type": "markdown",
   "id": "838c6bd2-8eb9-41d8-b4f4-49aeb22c8bd9",
   "metadata": {},
   "source": [
    "### MBTA Rapid Transit (T) Stops and Routes\n",
    "Stops were read in and processed with `read_n_clip`. However, because routes often go over or under water, routes were read in with `gpd.read_file` and converted to the proper CRS."
   ]
  },
  {
   "cell_type": "code",
   "execution_count": null,
   "id": "8adc3a2a-b635-4c99-b9a1-733681435546",
   "metadata": {},
   "outputs": [],
   "source": [
    "# read_n_clip MBTA rapid transit (T) stops, check CRS, and view info.\n",
    "bos_rt_node = read_n_clip('./data/mbta_rapid_transit/MBTA_NODE.shp', boston_zcta)\n",
    "print(bos_rt_node.crs)\n",
    "bos_rt_node.info()"
   ]
  },
  {
   "cell_type": "code",
   "execution_count": null,
   "id": "87bc469a-ed14-491f-b4dc-c3a2c45dd1af",
   "metadata": {},
   "outputs": [],
   "source": [
    "# Read in MBTA rapid transit (T) routes, convert CRS, check CRS, and view info.\n",
    "bos_rt_route = gpd.read_file('./data/mbta_rapid_transit/MBTA_ARC.shp')\n",
    "bos_rt_route = bos_rt_route.to_crs(boston_zcta.crs)\n",
    "print(bos_rt_route.crs)\n",
    "bos_rt_route.info()"
   ]
  },
  {
   "cell_type": "markdown",
   "id": "6b8e6df8-5ab3-43a0-8566-7d6273c18428",
   "metadata": {},
   "source": [
    "### Commuter Rail Stops and Routes\n",
    "Stops were read in and processed with `read_n_clip`. Routes were originally read in with `gpd.read_file` and converted to the proper CRS to preserve areas over or under water, but the extent greatly exceeded that of the Boston Region MPO. Therefore, routes were read in and processed with `read_n_clip`."
   ]
  },
  {
   "cell_type": "code",
   "execution_count": null,
   "id": "0ec3f72f-2527-4b38-acf2-840fe614d31a",
   "metadata": {},
   "outputs": [],
   "source": [
    "# read_n_clip Commuter Rail stops, check CRS, and view info.\n",
    "bos_train_node = read_n_clip('./data/trains/TRAINS_NODE.shp', boston_zcta)\n",
    "print(bos_train_node.crs)\n",
    "bos_train_node.info()"
   ]
  },
  {
   "cell_type": "code",
   "execution_count": null,
   "id": "14584c23-38d4-419b-b2a5-f651c81a7f82",
   "metadata": {},
   "outputs": [],
   "source": [
    "# read_n_clip Commuter Rail routes, check CRS, and view info.\n",
    "bos_train_route = read_n_clip('./data/trains/TRAINS_RTE_TRAIN.shp', boston_zcta)\n",
    "print(bos_train_route.crs)\n",
    "bos_train_route.info()"
   ]
  },
  {
   "cell_type": "markdown",
   "id": "89b5c79a-335f-4051-a32b-5f5a98a9c3bd",
   "metadata": {},
   "source": [
    "### Map Mass Transit with Base Map"
   ]
  },
  {
   "cell_type": "code",
   "execution_count": null,
   "id": "8db5e741-9c72-41b0-a472-5e7837174516",
   "metadata": {},
   "outputs": [],
   "source": [
    "ax = boston_zcta.plot(color='lightgrey', edgecolor='grey', figsize=(12,12))\n",
    "boston_water.plot(ax=ax, alpha=0.3)\n",
    "bos_bus.plot(ax=ax, color='red', markersize=5, label='Bus Stop')\n",
    "bos_rt_node.plot(ax=ax, color='green', markersize=15, label='Rapid Transit Stop')\n",
    "bos_rt_route.plot(ax=ax, color='green', label='Rapid Transit Route')\n",
    "bos_train_node.plot(ax=ax, color='purple', markersize=20, label='Train Stop')\n",
    "bos_train_route.plot(ax=ax, color='purple', label='Train Route')\n",
    "tufts_bu.plot(ax=ax, color='aquamarine', markersize=50)\n",
    "plt.title('Mass Transit in Boston Region MPO', fontsize=16)\n",
    "plt.legend()\n",
    "plt.show()"
   ]
  },
  {
   "cell_type": "markdown",
   "id": "6e9de693-558f-48cc-96be-d57625e5ffb2",
   "metadata": {},
   "source": [
    "---"
   ]
  },
  {
   "cell_type": "markdown",
   "id": "9f4b2af4-eba3-4f69-90f3-22ce62dd10fc",
   "metadata": {},
   "source": [
    "## Limit Study Area to Extent of Rapid Transit\n",
    "Judging by the vast extent of the commuter rail, the locations of Tufts and BU, and the density of bus and T stops, the outer ZCTAs within the Boston Region MPO are more untenable for regular commutes to work or to campus. Mass transit density analysis that include the outer ZCTAs will skew those within the range of the bus and the T, so they have been excluded from the study."
   ]
  },
  {
   "cell_type": "markdown",
   "id": "c38a76f7-2550-4c95-a119-05f598019ede",
   "metadata": {},
   "source": [
    "### Limit with Rectangular Bounds\n",
    "To limit the study area to the extent of the T for a more realistic comparison of ZCTAs, the following steps were used:\n",
    "1. Extract the rectangular bounds of MBTA Rapid Transit (T) stops.\n",
    "1. Create a bounding box with `shapely.geometry.box`.\n",
    "1. Add a buffer to the bounding box and store as a new extent.\n",
    "1. Extract Boston Region ZCTAs whose centroids are within the extent."
   ]
  },
  {
   "cell_type": "code",
   "execution_count": null,
   "id": "1ead19eb-7001-43de-ba3d-b55eec2cdf8f",
   "metadata": {
    "tags": []
   },
   "outputs": [],
   "source": [
    "# Extract bounds of Boston Rapid Transit (T) nodes.\n",
    "rt_bounds = bos_rt_node.geometry.total_bounds\n",
    "rt_bounds"
   ]
  },
  {
   "cell_type": "code",
   "execution_count": null,
   "id": "353ea1b6-0cc3-42aa-93f3-2a5b2ff60736",
   "metadata": {},
   "outputs": [],
   "source": [
    "# Creating bounding box with shapely.geometry.box\n",
    "# shapely.geometry.box(minx, miny, maxx, maxy, ccw=True)\n",
    "rt_bound_box = box(rt_bounds[0], rt_bounds[1], rt_bounds[2], rt_bounds[3])\n",
    "rt_bound_box"
   ]
  },
  {
   "cell_type": "code",
   "execution_count": null,
   "id": "a56f517e-9121-4f43-838b-a30dd29fc7ae",
   "metadata": {},
   "outputs": [],
   "source": [
    "# Store the extent as a Shapely Polygon in a variable called graph_extent.\n",
    "graph_extent = rt_bound_box.buffer(0.1, join_style=2)\n",
    "graph_extent"
   ]
  },
  {
   "cell_type": "code",
   "execution_count": null,
   "id": "48d16790-4509-4b49-949a-86129ae6870d",
   "metadata": {},
   "outputs": [],
   "source": [
    "# Extract Boston Region ZCTAs within the graph extent using the centroid of the ZCTAs.\n",
    "rt_zcta_box = boston_zcta[boston_zcta.centroid.within(graph_extent)]\n",
    "rt_zcta_box.info()"
   ]
  },
  {
   "cell_type": "code",
   "execution_count": null,
   "id": "173acc84-c280-4a84-a202-693c059743e9",
   "metadata": {},
   "outputs": [],
   "source": [
    "# View first five rows of rt_zcta.\n",
    "rt_zcta_box.head()"
   ]
  },
  {
   "cell_type": "code",
   "execution_count": null,
   "id": "6660f456-afe3-47ab-82f3-32e207a3025c",
   "metadata": {},
   "outputs": [],
   "source": [
    "# Plot the Boston Region ZCTAs within graph extent with the T to confirm success.\n",
    "ax = rt_zcta_box.plot(color='lightgrey', edgecolor='grey', figsize=(12,12))\n",
    "bos_rt_node.plot(ax=ax, color='green', markersize=15, label='Rapid Transit Stop')\n",
    "bos_rt_route.plot(ax=ax, color='green', label='Rapid Transit Route')\n",
    "plt.title('ZCTAs within Boston Region Rapid Transit Extent', fontsize=16)\n",
    "plt.show()"
   ]
  },
  {
   "cell_type": "markdown",
   "id": "6d815132-1334-4c3f-8306-1f01040ee151",
   "metadata": {},
   "source": [
    "### Limit with Convex Hull\n",
    "There are a number of ZCTAs that are within the defined rectangular bounds but are not close to a T stop. The extent was further limited to the convex hull of T stops with the following steps:\n",
    "1. Create a convex hull of T stops with `unary_union.convex_hull`.\n",
    "1. Add a buffer to the convex hull and store as a new extent.\n",
    "1. Extract Boston Region ZCTAs that intersect with the extent."
   ]
  },
  {
   "cell_type": "code",
   "execution_count": null,
   "id": "d8cf84cc-b946-4acc-8a73-13259fcce331",
   "metadata": {},
   "outputs": [],
   "source": [
    "# Create a convex hull from T stops.\n",
    "convex_bounds = bos_rt_node.unary_union.convex_hull\n",
    "convex_bounds"
   ]
  },
  {
   "cell_type": "code",
   "execution_count": null,
   "id": "e98a3eb1-92a9-4c22-a1e9-771231573bb9",
   "metadata": {},
   "outputs": [],
   "source": [
    "# Store the extent as a Shapely Polygon in a variable called convex_graph_extent.\n",
    "convex_graph_extent = convex_bounds.buffer(0.1)\n",
    "convex_graph_extent"
   ]
  },
  {
   "cell_type": "code",
   "execution_count": null,
   "id": "669b94e6-a566-4de2-b675-6ac1eb9ba08a",
   "metadata": {},
   "outputs": [],
   "source": [
    "# Extract Boston Region ZCTAs that intersect with the graph extent.\n",
    "rt_zcta = boston_zcta[boston_zcta.intersects(convex_graph_extent)]\n",
    "rt_zcta.info()"
   ]
  },
  {
   "cell_type": "code",
   "execution_count": null,
   "id": "79827388-3fc2-484f-8d5e-2f61867e59ad",
   "metadata": {},
   "outputs": [],
   "source": [
    "# Plot the Boston Region ZCTAs within convex graph extent to confirm success.\n",
    "ax = rt_zcta.plot(color='lightgrey', edgecolor='grey', figsize=(12,12))\n",
    "bos_rt_node.plot(ax=ax, color='green', markersize=15, label='Rapid Transit Stop')\n",
    "bos_rt_route.plot(ax=ax, color='green', label='Rapid Transit Route')\n",
    "plt.title('ZCTAs within Boston Region Rapid Transit Extent', fontsize=16)\n",
    "plt.show()"
   ]
  },
  {
   "cell_type": "markdown",
   "id": "67f50f27-c8b2-4de2-9d2f-cc60789e7d8e",
   "metadata": {},
   "source": [
    "### Clip All Relevant GDFs\n",
    "The following GDFs were clipped to the new `rt_zcta` extent:\n",
    "- `boston_water`\n",
    "- `bos_bus`\n",
    "- `bos_train_node`\n",
    "- `bos_train_route`\n",
    "\n",
    "Because `bos_rt_node` was used to create the extent and `bos_rt_route` connects all T stops, `bos_rt_route` does not need to be clipped."
   ]
  },
  {
   "cell_type": "code",
   "execution_count": null,
   "id": "58dae8d8-2f8e-4022-afdb-db99624926f5",
   "metadata": {},
   "outputs": [],
   "source": [
    "# Clip all relevant GDFs.\n",
    "boston_water = gpd.clip(boston_water, rt_zcta)\n",
    "bos_bus = gpd.clip(bos_bus, rt_zcta)\n",
    "bos_train_route = gpd.clip(bos_train_route, rt_zcta)\n",
    "bos_train_node = gpd.clip(bos_train_node, rt_zcta)"
   ]
  },
  {
   "cell_type": "code",
   "execution_count": null,
   "id": "62f3fcfa-87f5-4efe-ade7-7baa4cfb8fd6",
   "metadata": {},
   "outputs": [],
   "source": [
    "# Plot new extent with mass transit and schools.\n",
    "ax = rt_zcta.plot(color='lightgrey', edgecolor='grey', figsize=(12,12))\n",
    "boston_water.plot(ax=ax, alpha=0.3)\n",
    "bos_bus.plot(ax=ax, color='red', markersize=1, label='Bus Stop')\n",
    "bos_rt_node.plot(ax=ax, color='green', markersize=15, label='Rapid Transit Stop')\n",
    "bos_rt_route.plot(ax=ax, color='green', label='Rapid Transit Route')\n",
    "bos_train_node.plot(ax=ax, color='purple', markersize=20, label='Train Stop')\n",
    "bos_train_route.plot(ax=ax, color='purple', label='Train Route')\n",
    "tufts_bu.plot(ax=ax, color='aquamarine', markersize=50, zorder=5)\n",
    "plt.title('Mass Transit within Boston Region Rapid Transit Extent', fontsize=16)\n",
    "plt.legend()\n",
    "plt.show()"
   ]
  },
  {
   "cell_type": "markdown",
   "id": "fd1e1cfe-ef75-453e-951e-fee8e6c2be17",
   "metadata": {
    "tags": []
   },
   "source": [
    "#### TEST CODE"
   ]
  },
  {
   "cell_type": "markdown",
   "id": "4f086a92-778b-4948-91b4-65d84f20b83b",
   "metadata": {
    "tags": []
   },
   "source": [
    "bos_bus.head()"
   ]
  },
  {
   "cell_type": "markdown",
   "id": "8526b0dd-2bf1-46ae-9b04-378390e808e1",
   "metadata": {
    "tags": []
   },
   "source": [
    "bos_bus_latlong = bos_bus.to_crs('epsg:4326')\n",
    "bos_bus_latlong"
   ]
  },
  {
   "cell_type": "markdown",
   "id": "4d5e6254-2310-4635-9637-5b9a4098cfc5",
   "metadata": {
    "tags": []
   },
   "source": [
    "bos_bus['latitude'] = bos_bus_latlong.geometry.y\n",
    "bos_bus['longitude'] = bos_bus_latlong.geometry.x\n",
    "bos_bus.head()"
   ]
  },
  {
   "cell_type": "markdown",
   "id": "62df06ef-3e33-478f-9302-4efa7f25ced0",
   "metadata": {
    "tags": []
   },
   "source": [
    "m_1 = folium.Map(location=[42.32, -71.0589], tiles='openstreetmap', zoom_start=20)\n",
    "mc_1 = MarkerCluster()\n",
    "for idx, row in bos_bus.iterrows():\n",
    "    mc_1.add_child(folium.Marker([row['latitude'], row['longitude']], icon=folium.Icon(color='red', icon='bus')))\n",
    "\n",
    "mc_1.add_to(m_1)\n",
    "m_1"
   ]
  },
  {
   "cell_type": "markdown",
   "id": "9567e9a6-a98c-4df8-b6da-2243768e2287",
   "metadata": {},
   "source": [
    "---"
   ]
  },
  {
   "cell_type": "markdown",
   "id": "cd19438f-8c88-4c52-a3bb-2b52954008fd",
   "metadata": {},
   "source": [
    "## Mass Transit Accessibility\n",
    "As the study's premise is living without a car, it is crucial that the home's location be easily accessible by mass transit. Transit stops were selected as an indicator for convenience of mass transit. While the routes are also important to consider, the stops are the on-off points to transit lines and necessary to accessing the transit systems.\n",
    "\n",
    "The density of mass transit stops was calculated with the following steps:\n",
    "1. Function `count_records` was created to count the number of records in a GDF within polygons of another GDF (e.g. number of bus stops within a ZCTA).\n",
    "1. `count_records` was used on the GDFs for bus stops, T stops, and train stops in the limited `rt_zcta` extent.\n",
    "1. Function `multimerge` was created to merge multiple DataFrames on the same column or list of columns. \n",
    "1. `multimerge` was used to add all mass transit stop counts to `rt_zcta` \n",
    "1. Total stops and stop density were calculated for all ZCTAs and mapped."
   ]
  },
  {
   "cell_type": "markdown",
   "id": "35757567-48bb-4f48-97c4-2a72ab5baaad",
   "metadata": {},
   "source": [
    "### Count Public Transit Nodes per ZCTA"
   ]
  },
  {
   "cell_type": "markdown",
   "id": "3043de36-f102-41d1-89c5-0660ae94303d",
   "metadata": {},
   "source": [
    "#### Define Function `count_records`\n",
    "`count_records` takes a GeoDataFrame and counts the number of records within another GDF of polygons. It outputs a DataFrame with the specified polygon column values and counts column. The optional argument `op` for `gpd.sjoin` defaults to `'within'` unless otherwise specified."
   ]
  },
  {
   "cell_type": "code",
   "execution_count": null,
   "id": "bc210713-eb1e-4e8b-b28e-4fc6895235db",
   "metadata": {},
   "outputs": [],
   "source": [
    "def count_records(records_gdf, polygon_gdf, polygon_col, count_col, op='within'):\n",
    "    \"\"\"\n",
    "    Takes a GeoDataFrame and counts the number of records within another GDF of polygons. \n",
    "    Outputs a DataFrame with the specified polygon column values and counts.\n",
    "    Optional argument op defaults to 'within' unless otherwise specified.\n",
    "    Requires Pandas and GeoPandas to run.\n",
    "    \n",
    "    Inputs:\n",
    "        records_gdf = GDF of records to count\n",
    "        polygon_gdf = GDF of polygons to count from\n",
    "        polygon_col = name of column in polygon_gdf\n",
    "            e.g. 'name'\n",
    "        count_col = name of column for counts in output\n",
    "            e.g. 'tree_count'\n",
    "        op = op argument for sjoin; defaults to 'within' unless otherwise specified\n",
    "    \n",
    "    Example:\n",
    "    >>> tree_count = count_records(trees, towns, 'name', 'tree_count')\n",
    "    >>> tree_count\n",
    "        name          tree_count\n",
    "    0   Plainsville   68\n",
    "    1   Springfield   40\n",
    "    2   Fairfield     81\n",
    "    3   Greenville    105\n",
    "    \"\"\"\n",
    "    \n",
    "    # Conduct a spatial join of records and polygons.\n",
    "    spatial_join = gpd.sjoin(records_gdf, polygon_gdf, how='left', op=op)\n",
    "    \n",
    "    # Count the number of records within each polygon.\n",
    "    records_count = spatial_join[polygon_col].value_counts().reset_index()\n",
    "    \n",
    "    # Add columns to the new DF.\n",
    "    records_count.columns = [polygon_col, count_col]\n",
    "    \n",
    "    return records_count"
   ]
  },
  {
   "cell_type": "markdown",
   "id": "7082c90e-41f7-4741-a14f-2bf7a5ab4c67",
   "metadata": {},
   "source": [
    "#### Count MBTA Bus Stops per ZCTA"
   ]
  },
  {
   "cell_type": "code",
   "execution_count": null,
   "id": "a8922cb8-11bd-4e69-8e8a-1c4d569f54df",
   "metadata": {},
   "outputs": [],
   "source": [
    "# count_records for bus stops within rt_zcta.\n",
    "zcta_bus_count = count_records(bos_bus, rt_zcta, 'ZCTA5CE00', 'bus_stop_count')\n",
    "zcta_bus_count.describe()"
   ]
  },
  {
   "cell_type": "markdown",
   "id": "35082cc3-c213-4c90-92c0-d6b2c447a0e2",
   "metadata": {},
   "source": [
    "#### Count MBTA T Stops per ZCTA"
   ]
  },
  {
   "cell_type": "code",
   "execution_count": null,
   "id": "01cb1f3c-1b8d-4b1c-b3ba-58b85dd32957",
   "metadata": {},
   "outputs": [],
   "source": [
    "# count_records for T stops within rt_zcta.\n",
    "zcta_rt_count = count_records(bos_rt_node, rt_zcta, 'ZCTA5CE00', 'rt_stop_count')\n",
    "zcta_rt_count.describe()"
   ]
  },
  {
   "cell_type": "markdown",
   "id": "15766b01-d1a2-4fec-b4c8-f2185ebe31a1",
   "metadata": {},
   "source": [
    "#### Count Commuter Rail Stops per ZCTA"
   ]
  },
  {
   "cell_type": "code",
   "execution_count": null,
   "id": "d0b10f05-34d8-4031-9eb2-63f7ab92ff7e",
   "metadata": {},
   "outputs": [],
   "source": [
    "# count_records for Commuter Rail stops within rt_zcta.\n",
    "zcta_train_count = count_records(bos_train_node, rt_zcta, 'ZCTA5CE00', 'train_stop_count')\n",
    "zcta_train_count.describe()"
   ]
  },
  {
   "cell_type": "markdown",
   "id": "36acfbd0-e2de-46bb-9af4-8829b4e03cfa",
   "metadata": {},
   "source": [
    "### Define Function `multimerge`\n",
    "`multimerge` takes a base DataFrame and merges it with each DataFrame in a list of DataFrames on the specified column or list of columns and with the specified `how`. The function assumes the specified column(s) exist(s) across all DataFrames."
   ]
  },
  {
   "cell_type": "code",
   "execution_count": null,
   "id": "5cd156ed-df25-40f4-abd5-d335e98f6418",
   "metadata": {},
   "outputs": [],
   "source": [
    "def multimerge(left_df, df_list, on_col, how):\n",
    "    \"\"\"\n",
    "    Takes a base DataFrame and merges with each DataFrame in a list of DataFrames \n",
    "    on the specified column or list of columns and with the specified 'how'.\n",
    "    Assumes on_col exists across all DFs.\n",
    "    Requires Pandas to run merge method.\n",
    "    \n",
    "    Inputs:\n",
    "        left_df = base DF\n",
    "        df_list = list of DFs\n",
    "            e.g. [df1, df2, df3]\n",
    "        on_col = bracketed column name or list of columns (same across DFs)\n",
    "            e.g. ['name'], ['name', 'address', 'zip_code']\n",
    "        how = how argument\n",
    "            e.g. 'left'\n",
    "    \n",
    "    Example:\n",
    "    >>> town_schools = multimerge(town, [elem, middle, high], ['town_name'], 'left')\n",
    "    \"\"\"\n",
    "    \n",
    "    # Create a copy of the base DataFrame.\n",
    "    merge_df = left_df.copy()\n",
    "    \n",
    "    # Merge each DataFrame within the list.\n",
    "    for i in range(len(df_list)):\n",
    "        merge_df = merge_df.merge(df_list[i], on=on_col, how=how)\n",
    "        \n",
    "    return merge_df"
   ]
  },
  {
   "cell_type": "markdown",
   "id": "6bcecbae-dc81-4219-b5e4-75335975084c",
   "metadata": {},
   "source": [
    "### Calculate Mass Transit Density per ZCTA"
   ]
  },
  {
   "cell_type": "code",
   "execution_count": null,
   "id": "c824baff-c653-4339-bf89-552463d54284",
   "metadata": {},
   "outputs": [],
   "source": [
    "# Merge rt_zcta with all transit stop counts.\n",
    "count_list = [zcta_bus_count, zcta_rt_count, zcta_train_count]\n",
    "zcta_nodes = multimerge(rt_zcta, count_list, ['ZCTA5CE00'], 'left').fillna(0)\n",
    "zcta_nodes.info()"
   ]
  },
  {
   "cell_type": "code",
   "execution_count": null,
   "id": "a6786c40-6d01-4c05-b5a4-467f9ad597f1",
   "metadata": {},
   "outputs": [],
   "source": [
    "# View first five rows of new GDF.\n",
    "zcta_nodes.head()"
   ]
  },
  {
   "cell_type": "code",
   "execution_count": null,
   "id": "c38dc16a-f02e-47bb-b986-fcd2fd59b602",
   "metadata": {},
   "outputs": [],
   "source": [
    "# Calculate total transit stops in each ZCTA.\n",
    "zcta_nodes['nodes_count'] = zcta_nodes.bus_stop_count + zcta_nodes.rt_stop_count + zcta_nodes.train_stop_count\n",
    "zcta_nodes"
   ]
  },
  {
   "cell_type": "code",
   "execution_count": null,
   "id": "3b795e17-2321-46b0-b463-fdb8f9998e96",
   "metadata": {},
   "outputs": [],
   "source": [
    "# Map the number of transit stops in each ZCTA.\n",
    "ax = zcta_nodes.plot(column='nodes_count',\n",
    "                      legend=True,\n",
    "                      edgecolor='black',\n",
    "                      cmap='OrRd',\n",
    "                      figsize=(12, 12),\n",
    "                      legend_kwds={'label': \"Number of Mass Transit Stops\"})\n",
    "plt.title('Number of Mass Transit Stops by ZCTA in Boston Region', fontsize=16)\n",
    "plt.show()"
   ]
  },
  {
   "cell_type": "code",
   "execution_count": null,
   "id": "f962bdf3-f317-4abf-9ef9-1b1b3f7d2038",
   "metadata": {},
   "outputs": [],
   "source": [
    "# Calculate node density in nodes/sqkm.\n",
    "zcta_nodes['nodes_density'] = zcta_nodes.nodes_count/zcta_nodes.area*(10**6)\n",
    "zcta_nodes.sort_values(by='nodes_density', ascending=False).head()"
   ]
  },
  {
   "cell_type": "code",
   "execution_count": null,
   "id": "b5239fa7-68c3-41ea-9299-2a1983ed4e87",
   "metadata": {},
   "outputs": [],
   "source": [
    "# View statistics for nodes_density.\n",
    "zcta_nodes.nodes_density.describe()"
   ]
  },
  {
   "cell_type": "markdown",
   "id": "af19d430-7301-495d-bd02-cc383cfec16a",
   "metadata": {},
   "source": [
    "The top value for `nodes_density` greatly exceeds the next value, despite having a low `nodes_count`, indicating it is an outlier. The ZCTA in question, ZCTA 02222, appears to contain only TD Garden and North Station. Though setting the `nodes_density` value for ZCTA 02222 to the median value to prevent skewing the analysis was contemplated, the decision was ultimately made to allow the outlier as reclassification would nearly negate the skew."
   ]
  },
  {
   "cell_type": "markdown",
   "id": "cda58407-5d56-4816-bab1-d1b6ee6f66ae",
   "metadata": {},
   "source": [
    "##### ZCTA 02222 value for nodes_density set to median value.\n",
    "zcta_nodes.loc[61, 'nodes_density'] = zcta_nodes.nodes_density.median()\n",
    "zcta_nodes.sort_values(by='nodes_density', ascending=False).head()"
   ]
  },
  {
   "cell_type": "markdown",
   "id": "761b6923-c2e5-422c-b9f3-ea34f400a6b9",
   "metadata": {},
   "source": [
    "##### View statistics for nodes_density.\n",
    "zcta_nodes.nodes_density.describe()"
   ]
  },
  {
   "cell_type": "code",
   "execution_count": null,
   "id": "60eba85d-5a42-425e-aae4-7705e7f4c2b9",
   "metadata": {},
   "outputs": [],
   "source": [
    "# Map the density of transit nodes in each ZCTA.\n",
    "ax = zcta_nodes.plot(column='nodes_density',\n",
    "                      legend=True,\n",
    "                      edgecolor='black',\n",
    "                      cmap='YlGnBu',\n",
    "                      figsize=(12, 12),\n",
    "                      legend_kwds={'label': \"Mass Transit Stops per sqkm\"})\n",
    "plt.title('Density of Mass Transit Stops by ZCTA in Boston Region', fontsize=16)\n",
    "plt.show()"
   ]
  },
  {
   "cell_type": "markdown",
   "id": "38760351-9417-4fcf-adf7-781e6c77244b",
   "metadata": {},
   "source": [
    "### Reclassify Mass Transit Density\n",
    "To reclassify indicators, quantile values need to be found for each indicator and used to reclassify values in roughly equal segments. The `quantiles` function was created to find any number of quantiles, while the `reclass_5` function was created to reclassify indicators into five classes."
   ]
  },
  {
   "cell_type": "markdown",
   "id": "be9a385c-b546-4e9c-9272-bab20705b9f2",
   "metadata": {},
   "source": [
    "#### Define Functions `quantiles` and `reclass_5`\n",
    "`quantiles` takes a DataFrame, a column name, and a list of quantile thresholds (between 0 and 1) and outputs a list of quantile values for the column."
   ]
  },
  {
   "cell_type": "code",
   "execution_count": null,
   "id": "b39b208b-869a-40e8-8f75-4c4e9fb586a3",
   "metadata": {},
   "outputs": [],
   "source": [
    "def quantiles(df, col, threshold_list):\n",
    "    \"\"\"\n",
    "    Takes a DataFrame, a column name, and a list of quantile thresholds \n",
    "    (between 0 and 1) and outputs a list of quantile values for the column.\n",
    "    Requires NumPy to run numpy.quantile function.\n",
    "    \n",
    "    Inputs:\n",
    "        df = DataFrame variable name\n",
    "        col = column name as a string\n",
    "            e.g. 'mean'\n",
    "        threshold list = bracketed list of quantile thresholds between 0 and 1\n",
    "            e.g. [0.25, 0.5, 0.75], [0.2, 0.4, 0.6, 0.8]\n",
    "    \n",
    "    Example:\n",
    "    >>> quarts = [0.25, 0.5, 0.75]\n",
    "    >>> quantiles(student, 'grades', quarts)\n",
    "    [65.6, 80.5, 88.0]\n",
    "    \n",
    "    \"\"\"\n",
    "    # Create empty list.\n",
    "    quant_list = []\n",
    "    \n",
    "    # Calculate and append quantiles.\n",
    "    for i in range(len(threshold_list)):\n",
    "        quant_list.append(np.quantile(df[col], threshold_list[i]))\n",
    "        \n",
    "    return quant_list                                       "
   ]
  },
  {
   "cell_type": "markdown",
   "id": "61342d87-437f-45df-809a-921d8c7616c0",
   "metadata": {},
   "source": [
    "`reclass_5` takes a value and reclassifies it into 1 of 5 classes given a list of values for class thresholds and order preference."
   ]
  },
  {
   "cell_type": "code",
   "execution_count": null,
   "id": "75996a0b-f70f-4daa-81c5-80c323059d1c",
   "metadata": {},
   "outputs": [],
   "source": [
    "# Create a function that reclassifies an array into 5 classes.\n",
    "def reclass_5(val, class_list, order):\n",
    "    \"\"\"\n",
    "    Takes a value and reclassifies it into 1 of 5 classes given a list\n",
    "    of values for class thresholds and order preference.\n",
    "    Assumes no overall minimum or maximum.\n",
    "    Requires NumPy to run to account for np.NaN values.\n",
    "    \n",
    "    Inputs:\n",
    "        val = value to classify\n",
    "        class_list = numeric list of class thresholds in any order\n",
    "            e.g. [1.5, 3, 6, 4.5] or [100, 200, 400, 800]\n",
    "        order = 'low' or 'high' for which values are preferable\n",
    "            e.g. 'low' indicates lower values are preferable\n",
    "    \n",
    "    Example:\n",
    "    >>> thresholds = [200, 800, 400, 600]\n",
    "    >>> reclass_5(693, thresholds, 'high')\n",
    "    4\n",
    "    \n",
    "    \"\"\"\n",
    "    \n",
    "    # Assert class_list is a list, has four values, and all values are numeric.\n",
    "    assert type(class_list)==list, \"class_list must be a list.\"\n",
    "    assert len(class_list)==4, \"class_list must have four values.\"\n",
    "    assert all(isinstance(x, (int, float)) for x in class_list), \n",
    "        \"class_list must be comprised of only numbers.\"\n",
    "    \n",
    "    # Sort class_list descending.\n",
    "    class_sort = sorted(class_list, reverse=True)\n",
    "    \n",
    "    # Return np.NaN if value is np.NaN.\n",
    "    if np.isnan(val):\n",
    "        return np.NaN\n",
    "    \n",
    "    # Reclassify if lower values are preferred.\n",
    "    elif order=='low':\n",
    "        if val >= class_sort[0]:\n",
    "            return 1\n",
    "        elif val >= class_sort[1]:\n",
    "            return 2\n",
    "        elif val >= class_sort[2]:\n",
    "            return 3\n",
    "        elif val >= class_sort[3]:\n",
    "            return 4\n",
    "        else:\n",
    "            return 5\n",
    "    \n",
    "    # Reclassify if higher values are preferred.\n",
    "    elif order=='high':\n",
    "        if val >= class_sort[0]:\n",
    "            return 5\n",
    "        elif val >= class_sort[1]:\n",
    "            return 4\n",
    "        elif val >= class_sort[2]:\n",
    "            return 3\n",
    "        elif val >= class_sort[3]:\n",
    "            return 2\n",
    "        else:\n",
    "            return 1"
   ]
  },
  {
   "cell_type": "code",
   "execution_count": null,
   "id": "deae3201-77a0-44f2-8ff0-6364ec1fd31b",
   "metadata": {},
   "outputs": [],
   "source": [
    "# Calculate values to separate median into five quantiles.\n",
    "quintiles = [0.2, 0.4, 0.6, 0.8]\n",
    "nodes_quints = quantiles(zcta_nodes, 'nodes_density', quintiles)\n",
    "nodes_quints"
   ]
  },
  {
   "cell_type": "code",
   "execution_count": null,
   "id": "eed481d4-4eb2-4100-afbd-59510c642774",
   "metadata": {
    "tags": []
   },
   "outputs": [],
   "source": [
    "# Reclassify nodes_density.\n",
    "zcta_nodes['nodes_density_reclass'] = zcta_nodes['nodes_density'].apply(lambda x: reclass_5(x, nodes_quints, 'high'))"
   ]
  },
  {
   "cell_type": "code",
   "execution_count": null,
   "id": "460137bf-efda-476a-8c32-02a68f107830",
   "metadata": {},
   "outputs": [],
   "source": [
    "# View top and bottom five transit-dense ZCTAs.\n",
    "zcta_nodes.sort_values(by='nodes_density_reclass', ascending=False)"
   ]
  },
  {
   "cell_type": "code",
   "execution_count": null,
   "id": "9c4035a9-18c0-446d-a58f-01356833922c",
   "metadata": {
    "tags": []
   },
   "outputs": [],
   "source": [
    "# Map the reclassified mass transit density in each ZCTA.\n",
    "ax = rt_zcta.plot(color='lightgrey', edgecolor='grey', figsize=(12,12))\n",
    "zcta_nodes.plot(column='nodes_density_reclass',\n",
    "                 legend=True,\n",
    "                 edgecolor='black',\n",
    "                 cmap='plasma_r',\n",
    "                 legend_kwds={'label': \"Reclassified mass transit density\"},\n",
    "                 ax=ax)\n",
    "plt.title('Reclassified Density of Mass Transit by ZCTA in Boston Region', fontsize=16)\n",
    "plt.show()"
   ]
  },
  {
   "cell_type": "markdown",
   "id": "0facb1a2-4af5-44bb-a492-9b908c2a7295",
   "metadata": {},
   "source": [
    "---"
   ]
  },
  {
   "cell_type": "markdown",
   "id": "c1f9aded-c4ac-47b9-944f-aeec22accdb9",
   "metadata": {},
   "source": [
    "## Rent Affordability\n",
    "Rent is a crucial expense for any non-homeowner and a large cost-burden, especially in an urban area. Rent affordability in this study was judged by the median rent for a two- or three-bedroom home in each ZCTA. \n",
    "\n",
    "Data was obtained from [Jeff Kaufman's Apartment Price Map](https://www.jefftk.com/apartment_prices/details), which scraps data from [Padmapper](https://www.padmapper.com/). Though the dataset does not cover the entire defined extent, it was the best source of point data found for the Boston Region.\n",
    "\n",
    "Zillow data was also considered as a source, but it was much more limited in extent. Only 37 of the 62 ZCTAs in question were available in the Zillow dataset. Zillow analysis has been included as an appendix at the end of the study for those who are curious. \n",
    "\n",
    "The following steps were used to analyze rental data:\n",
    "1. Read in CSV file with point data on rental listings.\n",
    "1. Conduct a spatial join to match listings with ZCTAs.\n",
    "1. Calculate statistics on rental prices, including `len`, `min`, `max`, `median`, `mean`, `std`. \n",
    "1. Reclassify median rent prices in quintiles."
   ]
  },
  {
   "cell_type": "code",
   "execution_count": null,
   "id": "1d4e5908-cb13-4332-8a9e-fe53d9578858",
   "metadata": {},
   "outputs": [],
   "source": [
    "# Read in CSV file of Boston region rental data, obtained from Padmapper via Jeff Kaufman.\n",
    "rent_df = pd.read_csv('./data/20200919_rental_data.csv')\n",
    "# Convert to GeoDataFrame, setting CRS to EPSG:4326\n",
    "rent = gpd.GeoDataFrame(rent_df, geometry=gpd.points_from_xy(rent_df.longitude, rent_df.latitude))\n",
    "rent = rent.set_crs('epsg:4326')"
   ]
  },
  {
   "cell_type": "code",
   "execution_count": null,
   "id": "dbc3157f-a392-4ff3-8891-a11c002ba0f6",
   "metadata": {},
   "outputs": [],
   "source": [
    "# View original rent dataset.\n",
    "rent"
   ]
  },
  {
   "cell_type": "code",
   "execution_count": null,
   "id": "5b108ada-5e81-4e8a-b3c5-7074d482f46d",
   "metadata": {},
   "outputs": [],
   "source": [
    "# convert_n_clip rental data to CRS and extent of study area rt_zcta.\n",
    "rent = convert_n_clip(rent, rt_zcta)\n",
    "rent"
   ]
  },
  {
   "cell_type": "code",
   "execution_count": null,
   "id": "42bbff67-710d-4f17-a750-0c9b297b0693",
   "metadata": {},
   "outputs": [],
   "source": [
    "# Narrow down listings dataset to 2 or 3 bedrooms.\n",
    "rent_br = rent.loc[rent.rooms.isin([2, 3])]\n",
    "rent_br"
   ]
  },
  {
   "cell_type": "code",
   "execution_count": null,
   "id": "df2558db-5b70-4fe8-a215-991055b4d673",
   "metadata": {},
   "outputs": [],
   "source": [
    "# Plot rental listings with schools.\n",
    "ax = rt_zcta.plot(color='lightgrey', edgecolor='grey', figsize=(12,12))\n",
    "boston_water.plot(ax=ax, alpha=0.3)\n",
    "rent_br.plot(ax=ax, column='price', cmap='YlGnBu', markersize=1, label='2-3BR Rentals')\n",
    "bos_rt_node.plot(ax=ax, color='green', markersize=15, label='Rapid Transit Stop')\n",
    "bos_rt_route.plot(ax=ax, color='green', label='Rapid Transit Route')\n",
    "tufts_bu.plot(ax=ax, color='maroon', markersize=50)\n",
    "plt.title('2-3BR Rentals within Boston Region Rapid Transit Extent', fontsize=16)\n",
    "plt.legend()\n",
    "plt.show()"
   ]
  },
  {
   "cell_type": "markdown",
   "id": "230972d3-d7a0-42a6-bcfa-8b87a122bb9d",
   "metadata": {},
   "source": [
    "### Conduct Spatial Join to Match Rents with ZCTAs"
   ]
  },
  {
   "cell_type": "code",
   "execution_count": null,
   "id": "1a68df0f-6cab-40c5-962b-ab47697e9c7f",
   "metadata": {},
   "outputs": [],
   "source": [
    "rent_br_zcta = gpd.sjoin(rent_br, rt_zcta, how='left', op='within')\n",
    "rent_br_zcta"
   ]
  },
  {
   "cell_type": "markdown",
   "id": "f676b231-52a8-4186-855f-f34384e178a6",
   "metadata": {},
   "source": [
    "### Calculate Statistics for Rent Prices "
   ]
  },
  {
   "cell_type": "code",
   "execution_count": null,
   "id": "bce80326-341d-426e-aecc-5c7b3903db35",
   "metadata": {},
   "outputs": [],
   "source": [
    "# Calculate statistics on price by ZCTA.\n",
    "zcta_rent_stats = rent_br_zcta.groupby('ZCTA5CE00').price.agg([len, min, max, np.median, np.mean, np.std])\n",
    "zcta_rent_stats"
   ]
  },
  {
   "cell_type": "code",
   "execution_count": null,
   "id": "40f1bd95-69e7-4e04-8d13-d6d973e34465",
   "metadata": {
    "tags": []
   },
   "outputs": [],
   "source": [
    "# View statistics for median rent prices.\n",
    "zcta_rent_stats['median'].describe()"
   ]
  },
  {
   "cell_type": "code",
   "execution_count": null,
   "id": "9c213898-59f4-4eb9-8f8c-4dd9f264d10f",
   "metadata": {},
   "outputs": [],
   "source": [
    "# Merge statistics with spatial ZCTA rental GDF.\n",
    "zcta_rent = rt_zcta.merge(zcta_rent_stats, on='ZCTA5CE00', how='left')\n",
    "zcta_rent.info()"
   ]
  },
  {
   "cell_type": "code",
   "execution_count": null,
   "id": "ad499a82-1c0a-4ccf-878a-e3209410c4f9",
   "metadata": {},
   "outputs": [],
   "source": [
    "# Rename columns to include rent (important for merging data later).\n",
    "zcta_rent = zcta_rent.rename(columns={'len':'rent_len', 'min':'rent_min', 'max':'rent_max', 'median':'rent_median', 'mean':'rent_mean', 'std':'rent_std'})"
   ]
  },
  {
   "cell_type": "code",
   "execution_count": null,
   "id": "7234f152-2c6c-4f2c-a322-88a350b6a1b2",
   "metadata": {
    "tags": []
   },
   "outputs": [],
   "source": [
    "# Map the median rent price in each ZCTA.\n",
    "ax = rt_zcta.plot(color='lightgrey', edgecolor='grey', figsize=(12,12))\n",
    "zcta_rent.plot(column='rent_median',\n",
    "                 legend=True,\n",
    "                 edgecolor='black',\n",
    "                 cmap='YlGnBu',\n",
    "                 legend_kwds={'label': \"Median rental price\"},\n",
    "                 ax=ax)\n",
    "plt.title('Median Rental Price for 2- or 3-BR Homes by ZCTA in Boston Region', fontsize=16)\n",
    "plt.show()"
   ]
  },
  {
   "cell_type": "markdown",
   "id": "b86812ca-cb00-468a-b2da-90f8bdf8d380",
   "metadata": {},
   "source": [
    "### Reclassify Rent Prices"
   ]
  },
  {
   "cell_type": "code",
   "execution_count": null,
   "id": "fac2a48d-d371-42cd-94a3-65e36a69effe",
   "metadata": {},
   "outputs": [],
   "source": [
    "# Calculate values to separate median into five quantiles.\n",
    "# Use same quintiles list of thresholds from reclassifying transit.\n",
    "rent_quants = quantiles(zcta_rent_stats, 'median', quintiles)\n",
    "rent_quants"
   ]
  },
  {
   "cell_type": "code",
   "execution_count": null,
   "id": "07a2f1e8-68da-41c2-9713-0e0cd5a929ed",
   "metadata": {
    "tags": []
   },
   "outputs": [],
   "source": [
    "# Reclassify median rent prices with reclass_5 function and quintile values.\n",
    "zcta_rent['rent_median_reclass'] = zcta_rent['rent_median'].apply(lambda x: reclass_5(x, rent_quants, 'low'))"
   ]
  },
  {
   "cell_type": "code",
   "execution_count": null,
   "id": "d5b57c31-9b08-4959-aef1-06f9f809c0df",
   "metadata": {},
   "outputs": [],
   "source": [
    "# View top and bottom five median rental ZCTAs.\n",
    "zcta_rent.sort_values(by='rent_median_reclass', ascending=False)"
   ]
  },
  {
   "cell_type": "code",
   "execution_count": null,
   "id": "a8a8d422-99ac-47f5-b46b-c22b4587d46d",
   "metadata": {
    "tags": []
   },
   "outputs": [],
   "source": [
    "# Map the median rent price in each ZCTA.\n",
    "ax = rt_zcta.plot(color='lightgrey', edgecolor='grey', figsize=(12,12))\n",
    "zcta_rent.plot(column='median_reclass',\n",
    "                 legend=True,\n",
    "                 edgecolor='black',\n",
    "                 cmap='plasma_r', #reverse colormap to indicate lower values are preferable\n",
    "                 legend_kwds={'label': \"Reclassified median rental price\"},\n",
    "                 ax=ax)\n",
    "plt.title('Reclassified Median Rental Price for 2- or 3-BR Homes by ZCTA in Boston Region', fontsize=16)\n",
    "plt.show()"
   ]
  },
  {
   "cell_type": "markdown",
   "id": "0c3120d7-caae-4624-ba92-ff46fe9f06ac",
   "metadata": {},
   "source": [
    "---"
   ]
  },
  {
   "cell_type": "markdown",
   "id": "d5710283-e683-43f6-9f18-578caac3e532",
   "metadata": {},
   "source": [
    "## Locations and Density of Necessities\n",
    "Accessibility of necessities and amenities is crucial to living anywhere. For the purposes of this study, necessities were defined as follows:\n",
    "- Food\n",
    "    - Groceries (e.g. supermarkets and food purveryors, like  greengrocers, butchers, etc.)\n",
    "    - Prepared food (e.g. restaurants, cafes, etc.)\n",
    "    - Farmers markets\n",
    "- Health Services\n",
    "    - Community health centers\n",
    "    - Hospitals\n",
    "    - Healthcare facilities (e.g. doctors' offices, pharmacies, dentists, etc.)\n",
    "- Public Services\n",
    "    - Fire stations\n",
    "    - Police stations\n",
    "    - USPS Post Offices\n",
    "    - Libraries\n",
    "\n",
    "Some data was imported from sources such as MassGIS while others were retrieved using `OpenStreetMap` and `OSMnx`'s `geometries_from_polygon` function."
   ]
  },
  {
   "cell_type": "markdown",
   "id": "52f67c88-6347-411e-bee3-158375e9b8a3",
   "metadata": {},
   "source": [
    "### Create Extent in Latitude-Longitude to Use With `OSMnx`\n",
    "To use `OSMnx geometries_from_polygon`, a polygon needs to be created in latitude-longitude coordinates. This was accomplished with the following steps:\n",
    "1. Convert the T stops shapefile to `EPSG:4326` for lat-long and extract its rectangular bounds.\n",
    "1. Create a bounding box with `shapely.geometry.box`.\n",
    "1. Add a buffer to the bounding box and store as a new extent."
   ]
  },
  {
   "cell_type": "code",
   "execution_count": null,
   "id": "f9101a42-da84-43b4-9621-1201c5833e93",
   "metadata": {},
   "outputs": [],
   "source": [
    "# Extract bounds of T Stops.\n",
    "rt_bounds_latlong = bos_rt_node.to_crs('epsg:4326').unary_union.convex_hull\n",
    "rt_bounds_latlong"
   ]
  },
  {
   "cell_type": "code",
   "execution_count": null,
   "id": "89ccc753-3978-44ef-9024-c39f56ea6a5b",
   "metadata": {},
   "outputs": [],
   "source": [
    "# Store the extent as a Shapely Polygon in a variable called graph_extent:\n",
    "graph_extent_latlong = rt_bounds_latlong.buffer(0.1, join_style=2)\n",
    "print(type(graph_extent_latlong))\n",
    "graph_extent_latlong"
   ]
  },
  {
   "cell_type": "markdown",
   "id": "5f943244-0105-4418-b869-dbb6f3bfefa9",
   "metadata": {},
   "source": [
    "### Food Within Extent\n",
    "Groceries and prepared food establishments within this study were found using `OSMnx` and the appropriate OSM tags. \n",
    "- Groceries were defined as shops where one can purchase ingredients or products to prepare one's own meals. \n",
    "- Prepared food was defined as establishments where one can purchase already-prepared food to consume, e.g. restaurants, cafes, fast food restaurants. \n",
    "- Specialty shops, such as coffee, ice cream, or alcohol shops, were excluded from these categories. \n",
    "\n",
    "Farmers markets were obtained from MassGIS."
   ]
  },
  {
   "cell_type": "markdown",
   "id": "ce1f41c4-29de-4a0f-b21e-57249ab39a5c",
   "metadata": {},
   "source": [
    "#### Groceries"
   ]
  },
  {
   "cell_type": "code",
   "execution_count": null,
   "id": "f722fcbb-0561-4675-b54c-f2ea63f8321b",
   "metadata": {},
   "outputs": [],
   "source": [
    "# Retrieve groceries features within graph_extent_latlong from OSMnx and view info.\n",
    "grocery_tags = {'shop':['supermarket', 'grocery', 'greengrocer', 'bakery', 'butcher', 'deli', 'dairy', 'farm', 'seafood']}\n",
    "grocery = ox.geometries_from_polygon(graph_extent_latlong, grocery_tags)\n",
    "grocery = convert_n_clip(grocery, rt_zcta)\n",
    "grocery.info()"
   ]
  },
  {
   "cell_type": "code",
   "execution_count": null,
   "id": "1a39467d-c120-4f83-9246-3d50043a3245",
   "metadata": {},
   "outputs": [],
   "source": [
    "# View first five rows of groceries GDF.\n",
    "grocery.head()"
   ]
  },
  {
   "cell_type": "code",
   "execution_count": null,
   "id": "3ba4a413-16b8-45a0-93d3-cd66be37b8c1",
   "metadata": {},
   "outputs": [],
   "source": [
    "# Use count_records on groceries GDF.\n",
    "zcta_grocery_count = count_records(grocery, rt_zcta, 'ZCTA5CE00', 'grocery_count')\n",
    "zcta_grocery_count"
   ]
  },
  {
   "cell_type": "markdown",
   "id": "99ca5327-ddd4-40b9-bce5-9b6c8a724ce9",
   "metadata": {},
   "source": [
    "#### Prepared food"
   ]
  },
  {
   "cell_type": "code",
   "execution_count": null,
   "id": "d7604270-d7e7-461a-823b-5b1fbef6fc64",
   "metadata": {},
   "outputs": [],
   "source": [
    "# Retrieve prepared food features within graph_extent_latlong from OSMnx and view info.\n",
    "prep_food_tags = {'amenity':['cafe', 'restaurant', 'fast_food']}\n",
    "prep_food = ox.geometries_from_polygon(graph_extent_latlong, prep_food_tags)\n",
    "prep_food = convert_n_clip(prep_food, rt_zcta)\n",
    "prep_food.info()"
   ]
  },
  {
   "cell_type": "code",
   "execution_count": null,
   "id": "c6f13856-d15d-418c-8be1-1834a05ae9a1",
   "metadata": {},
   "outputs": [],
   "source": [
    "# View first five rows of prepared food GDF.\n",
    "prep_food.head()"
   ]
  },
  {
   "cell_type": "code",
   "execution_count": null,
   "id": "64f27abd-d1c3-4b98-ab43-9cccab000d15",
   "metadata": {},
   "outputs": [],
   "source": [
    "# Use count_records on prepared food GDF.\n",
    "zcta_prep_food_count = count_records(prep_food, rt_zcta, 'ZCTA5CE00', 'prep_food_count')\n",
    "zcta_prep_food_count"
   ]
  },
  {
   "cell_type": "markdown",
   "id": "e15b4ed3-8c30-473d-899d-d94d0b6c038a",
   "metadata": {},
   "source": [
    "#### Farmers Markets"
   ]
  },
  {
   "cell_type": "code",
   "execution_count": null,
   "id": "49af4c78-c46e-4c91-a640-f6233ba67655",
   "metadata": {},
   "outputs": [],
   "source": [
    "# read_n_clip farmers markets shapefile from MassGIS and view info.\n",
    "farmer_mrkt = read_n_clip('./data/farmersmarkets/FARMERSMARKETS_PT.shp', rt_zcta)\n",
    "farmer_mrkt.info()"
   ]
  },
  {
   "cell_type": "code",
   "execution_count": null,
   "id": "aa3eb7ae-4dd2-4048-9e6d-d654d82e55ca",
   "metadata": {},
   "outputs": [],
   "source": [
    "# View first five rows of farmer_mrkt.\n",
    "farmer_mrkt.head()"
   ]
  },
  {
   "cell_type": "code",
   "execution_count": null,
   "id": "0311c7ff-f80f-4f53-8110-5152912846ce",
   "metadata": {},
   "outputs": [],
   "source": [
    "# Use count_records on farmer_mrkt.\n",
    "zcta_farmer_mrkt_count = count_records(farmer_mrkt, rt_zcta, 'ZCTA5CE00', 'farmer_mrkt_count')\n",
    "zcta_farmer_mrkt_count"
   ]
  },
  {
   "cell_type": "markdown",
   "id": "001a3ac7-f8d3-476a-b895-59f324c9d296",
   "metadata": {},
   "source": [
    "#### Define Function `calc_density`\n",
    "This function was created to automate density calculations based on counts of records in a dataset (e.g. number of food establishments per square kilometer in each ZCTA).\n",
    "\n",
    "The purpose of this function is to calculate the density of a set of records in a GeoDataFrame of polygons. It takes a base GeoDataFrame and, using function `multimerge`, merges it with a list of GeoDataFrames on the specified column or columns in the list of `on` columns and with the specified `how`. The GDFs within the list are expected to have columns with counts, and those columns are given in a list. The function then adds together the counts in specified columns and calculates the density."
   ]
  },
  {
   "cell_type": "code",
   "execution_count": null,
   "id": "fcfff6a9-47af-4d1b-8b65-7de5d08afa41",
   "metadata": {},
   "outputs": [],
   "source": [
    "def calc_density(orig_gdf, gdf_count_list, on_col, how, count_cols, total_count_col, density_col):\n",
    "    \"\"\"\n",
    "    The purpose of this function is to calculate the density of a set of records\n",
    "    in a GeoDataFrame of polygons.\n",
    "    Takes a base GeoDataFrame and, using function multimerge, merges it with a list of GDFs \n",
    "    on the specified column or list of columns and with the specified 'how'.\n",
    "    The GDFs within the list are expected to have columns with counts.\n",
    "    Adds together the counts in specified columns, then calculates the density.\n",
    "    Assumes on_col exists across all DFs.\n",
    "    Assumes units of the GDF are in meters, with density output of per sqkm.\n",
    "    Requires Pandas to run merge method (within multimerge) and fillna().\n",
    "    \n",
    "    Inputs:\n",
    "        orig_gdf = base GDF\n",
    "        gdf_count_list = list of GDFs with counts to calculate from\n",
    "            e.g. [gdf1, gdf2, gdf3]\n",
    "        on_col = bracketed column name or list of columns (same across GDFs)\n",
    "            e.g. ['name'], ['name', 'address']\n",
    "        how = how argument\n",
    "            e.g. 'left'\n",
    "        count_cols = bracketed list of column names with counts, order does not matter\n",
    "            e.g. ['gdf1_count', 'gdf2_count', 'gdf3_count']\n",
    "        total_count_col = string name for new column with total counts\n",
    "            e.g. 'total_count'\n",
    "        density_col = string name for new column with density (per sqkm)\n",
    "            e.g. 'bike_density'\n",
    "    \n",
    "    Example:\n",
    "    >>> schools = [elem, middle, high]\n",
    "    >>> on_col = ['town_name', 'state']\n",
    "    >>> count_cols = ['elem_classrooms', 'middle_classrooms', 'high_classrooms']\n",
    "    >>> town_schools = multimerge(town, \n",
    "                                  schools, \n",
    "                                  on_col, \n",
    "                                  'left', \n",
    "                                  count_cols, \n",
    "                                  'total_classrooms', \n",
    "                                  'classroom_density')\n",
    "    \"\"\"\n",
    "    \n",
    "    # Run multimerge on the GDFs.\n",
    "    density_gdf = multimerge(orig_gdf, gdf_count_list, on_col, how).fillna(0)\n",
    "    \n",
    "    # Create new total_count_col with dtype float (fill in with 0.0).\n",
    "    density_gdf[total_count_col] = 0.0\n",
    "    \n",
    "    # Add count columns.\n",
    "    for i in range(len(count_cols)):\n",
    "        density_gdf[total_count_col] = density_gdf[total_count_col] + density_gdf[count_cols[i]]\n",
    "    \n",
    "    # Calculate density.\n",
    "    density_gdf[density_col] = density_gdf[total_count_col]/density_gdf.area*(10**6)\n",
    "    \n",
    "    return density_gdf"
   ]
  },
  {
   "cell_type": "markdown",
   "id": "2fd75f0c-59bd-4807-9609-c0b44b1598a1",
   "metadata": {},
   "source": [
    "#### Calculate Food Density per ZCTA"
   ]
  },
  {
   "cell_type": "code",
   "execution_count": null,
   "id": "64eb90cc-0bb5-4233-82f4-db885ae96ffc",
   "metadata": {},
   "outputs": [],
   "source": [
    "# Use calc_density to calculate density of food establishments per ZCTA.\n",
    "food_gdfs = [zcta_grocery_count, zcta_prep_food_count, zcta_farmer_mrkt_count]\n",
    "food_cols = ['grocery_count', 'prep_food_count', 'farmer_mrkt_count']\n",
    "zcta_food = calc_density(rt_zcta, food_gdfs, ['ZCTA5CE00'], 'left', food_cols, 'food_count', 'food_density')"
   ]
  },
  {
   "cell_type": "code",
   "execution_count": null,
   "id": "1e91ffc3-4552-4e30-a8d9-184807c6d70c",
   "metadata": {},
   "outputs": [],
   "source": [
    "# View five most food-dense ZCTAs.\n",
    "zcta_food.sort_values(by='food_density', ascending=False).head()"
   ]
  },
  {
   "cell_type": "code",
   "execution_count": null,
   "id": "bd6d5074-f6cb-4319-abfb-c96cc9ac32e3",
   "metadata": {},
   "outputs": [],
   "source": [
    "# View stats for food_density\n",
    "zcta_food.food_density.describe()"
   ]
  },
  {
   "cell_type": "code",
   "execution_count": null,
   "id": "95db40a6-2191-4ddd-84de-89ae846dcd36",
   "metadata": {},
   "outputs": [],
   "source": [
    "# Map the density of food establishments in each ZCTA.\n",
    "ax = rt_zcta.plot(color='lightgrey', edgecolor='grey', figsize=(12,12))\n",
    "zcta_food.plot(column='food_density',\n",
    "               legend=True,\n",
    "               edgecolor='black',\n",
    "               cmap='YlGnBu',\n",
    "               legend_kwds={'label': \"Food establishments per sqkm\"},\n",
    "               ax=ax)\n",
    "plt.title('Density of Food Establishments by ZCTA in Boston Region', fontsize=16)\n",
    "plt.show()"
   ]
  },
  {
   "cell_type": "markdown",
   "id": "df0a5d44-2f83-4399-b5f3-dc45b9291f71",
   "metadata": {},
   "source": [
    "#### Reclassify Food Density"
   ]
  },
  {
   "cell_type": "code",
   "execution_count": null,
   "id": "9ccfb079-1039-4091-a539-130036fbc84b",
   "metadata": {},
   "outputs": [],
   "source": [
    "# Calculate values to separate food density into five quantiles.\n",
    "food_quints = quantiles(zcta_food, 'food_density', quintiles)\n",
    "food_quints"
   ]
  },
  {
   "cell_type": "code",
   "execution_count": null,
   "id": "ba3f4b66-e13b-49ea-b72b-f46b5471814b",
   "metadata": {
    "tags": []
   },
   "outputs": [],
   "source": [
    "# Reclassify food density with reclass_5 function and quintile values.\n",
    "zcta_food['food_density_reclass'] = zcta_food['food_density'].apply(lambda x: reclass_5(x, food_quints, 'high'))"
   ]
  },
  {
   "cell_type": "code",
   "execution_count": null,
   "id": "9e5d31f3-99f0-4af4-a667-754ffa84c525",
   "metadata": {},
   "outputs": [],
   "source": [
    "# View top and bottom five food dense ZCTAs.\n",
    "zcta_food.sort_values(by='food_density_reclass', ascending=False)"
   ]
  },
  {
   "cell_type": "code",
   "execution_count": null,
   "id": "d436331a-ef11-4008-8faa-d1efbf884727",
   "metadata": {
    "tags": []
   },
   "outputs": [],
   "source": [
    "# Map the reclassified food density in each ZCTA.\n",
    "ax = rt_zcta.plot(color='lightgrey', edgecolor='grey', figsize=(12,12))\n",
    "zcta_food.plot(column='food_density_reclass',\n",
    "               legend=True,\n",
    "               edgecolor='black',\n",
    "               cmap='plasma_r',\n",
    "               legend_kwds={'label': \"Reclassified food density\"},\n",
    "               ax=ax)\n",
    "plt.title('Reclassified Density of Food Establishments by ZCTA in Boston Region', fontsize=16)\n",
    "plt.show()"
   ]
  },
  {
   "cell_type": "markdown",
   "id": "db9ec9d3-b734-48b2-a8a2-e78292380a6b",
   "metadata": {},
   "source": [
    "### Health Services Within Extent\n",
    "Health services were defined as Community Health Centers and Hospitals from MassGIS and found with the appropriate OSM tags for healthcare and amenities, such as clinics and doctors offices. Social services facilities and veterinary servies were omitted."
   ]
  },
  {
   "cell_type": "markdown",
   "id": "69102629-3b20-4ac7-808e-db6908067a8c",
   "metadata": {},
   "source": [
    "#### Community Health Centers"
   ]
  },
  {
   "cell_type": "code",
   "execution_count": null,
   "id": "826efde4-9622-4fee-9070-7b9878def662",
   "metadata": {},
   "outputs": [],
   "source": [
    "# read_n_clip Community Health Centers shapefile from MassGIS and view info.\n",
    "comm_health = read_n_clip('./data/chcs/CHCS_PT.shp', rt_zcta)\n",
    "comm_health.info()"
   ]
  },
  {
   "cell_type": "code",
   "execution_count": null,
   "id": "60050ca5-3e4c-4eb9-b2f3-9ba8b5764daa",
   "metadata": {},
   "outputs": [],
   "source": [
    "# View first five rows of comm_health.\n",
    "comm_health.head()"
   ]
  },
  {
   "cell_type": "code",
   "execution_count": null,
   "id": "32961279-3001-493c-8007-1a193cbc2af2",
   "metadata": {},
   "outputs": [],
   "source": [
    "# Use count_records on comm_health.\n",
    "zcta_comm_health_count = count_records(comm_health, rt_zcta, 'ZCTA5CE00', 'comm_health_count')\n",
    "zcta_comm_health_count"
   ]
  },
  {
   "cell_type": "markdown",
   "id": "ee1cac02-7770-4cfb-b38c-e712086cb2c8",
   "metadata": {},
   "source": [
    "#### Hospitals"
   ]
  },
  {
   "cell_type": "code",
   "execution_count": null,
   "id": "06545e70-6858-4c69-aedb-1b4ecdde9e25",
   "metadata": {},
   "outputs": [],
   "source": [
    "# read_n_clip Hospitals shapefile from MassGIS and view info.\n",
    "hospitals = read_n_clip('./data/acute_care_hospitals/HOSPITALS_PT.shp', rt_zcta)\n",
    "hospitals.info()"
   ]
  },
  {
   "cell_type": "code",
   "execution_count": null,
   "id": "eb482b82-9cf6-45de-8fd0-47700f9a77ea",
   "metadata": {},
   "outputs": [],
   "source": [
    "# View first five rows of hospitals.\n",
    "hospitals.head()"
   ]
  },
  {
   "cell_type": "code",
   "execution_count": null,
   "id": "fff7a158-5431-4132-9fcf-313d05eed5b0",
   "metadata": {},
   "outputs": [],
   "source": [
    "# Use count_records on hospitals.\n",
    "zcta_hospitals_count = count_records(hospitals, rt_zcta, 'ZCTA5CE00', 'hospitals_count')\n",
    "zcta_hospitals_count"
   ]
  },
  {
   "cell_type": "markdown",
   "id": "2d4d824d-e1c8-4bab-a810-d353dc1d332b",
   "metadata": {},
   "source": [
    "#### Healthcare"
   ]
  },
  {
   "cell_type": "code",
   "execution_count": null,
   "id": "11c8d10a-e176-445e-bcb1-88cfeee9e6e7",
   "metadata": {},
   "outputs": [],
   "source": [
    "# Retrieve healthcare features within graph_extent_latlong from OSMnx and view info.\n",
    "health_tags = {'healthcare':True, 'amenity':['clinic', 'doctors', 'dentist', 'health_post', 'pharmacy']}\n",
    "healthcare = ox.geometries_from_polygon(graph_extent_latlong, health_tags)\n",
    "healthcare = convert_n_clip(healthcare, rt_zcta)\n",
    "healthcare.info()"
   ]
  },
  {
   "cell_type": "code",
   "execution_count": null,
   "id": "9c2d3c76-4796-4a9c-a291-80c892c7d59d",
   "metadata": {},
   "outputs": [],
   "source": [
    "# View first five rows of healthcare GDF.\n",
    "healthcare.head()"
   ]
  },
  {
   "cell_type": "code",
   "execution_count": null,
   "id": "4edb6bbf-0b23-49d0-bd30-766af75126eb",
   "metadata": {},
   "outputs": [],
   "source": [
    "# Use count_records on healthcare.\n",
    "zcta_healthcare_count = count_records(healthcare, rt_zcta, 'ZCTA5CE00', 'healthcare_count')\n",
    "zcta_healthcare_count"
   ]
  },
  {
   "cell_type": "markdown",
   "id": "56625217-6cb8-439c-9677-4f25d499fff7",
   "metadata": {},
   "source": [
    "#### Calculate Health Services Density per ZCTA"
   ]
  },
  {
   "cell_type": "code",
   "execution_count": null,
   "id": "70007584-9e42-431b-9d7a-28d56185d8b8",
   "metadata": {},
   "outputs": [],
   "source": [
    "# Use calc_density to calculate density of health services per ZCTA.\n",
    "health_gdfs = [zcta_comm_health_count, zcta_hospitals_count, zcta_healthcare_count]\n",
    "health_cols = ['comm_health_count', 'hospitals_count', 'healthcare_count']\n",
    "zcta_health = calc_density(rt_zcta, health_gdfs, ['ZCTA5CE00'], 'left', health_cols, 'health_count', 'health_density')"
   ]
  },
  {
   "cell_type": "code",
   "execution_count": null,
   "id": "9dcb90e9-98a7-4f03-a600-43e6b6dc0c58",
   "metadata": {},
   "outputs": [],
   "source": [
    "# View five most food-dense ZCTAs.\n",
    "zcta_health.sort_values(by='health_density', ascending=False).head()"
   ]
  },
  {
   "cell_type": "code",
   "execution_count": null,
   "id": "0f14ae3e-a9d8-46e2-a97e-64ad37287077",
   "metadata": {},
   "outputs": [],
   "source": [
    "# View stats for health_density\n",
    "zcta_health.health_density.describe()"
   ]
  },
  {
   "cell_type": "code",
   "execution_count": null,
   "id": "7e997126-d0f8-478a-bc47-3ec9b154b7b4",
   "metadata": {},
   "outputs": [],
   "source": [
    "# Map the density of health services in each ZCTA.\n",
    "ax = rt_zcta.plot(color='lightgrey', edgecolor='grey', figsize=(12,12))\n",
    "zcta_health.plot(column='health_density',\n",
    "                 legend=True,\n",
    "                 edgecolor='black',\n",
    "                 cmap='YlGnBu',\n",
    "                 legend_kwds={'label': \"Health services per sqkm\"},\n",
    "                 ax=ax)\n",
    "plt.title('Density of Health Services by ZCTA in Boston Region', fontsize=16)\n",
    "plt.show()"
   ]
  },
  {
   "cell_type": "markdown",
   "id": "6a48adb2-ff49-42b6-8d78-6a9f6405bddd",
   "metadata": {},
   "source": [
    "#### Reclassify Health Services Density"
   ]
  },
  {
   "cell_type": "code",
   "execution_count": null,
   "id": "57ac6f2e-35d6-4ed9-88b1-1753ad238cd9",
   "metadata": {},
   "outputs": [],
   "source": [
    "# Calculate values to separate health density into five quantiles.\n",
    "health_quints = quantiles(zcta_health, 'health_density', quintiles)\n",
    "health_quints"
   ]
  },
  {
   "cell_type": "code",
   "execution_count": null,
   "id": "ce940400-2ce1-400d-a789-f585f35c7565",
   "metadata": {
    "tags": []
   },
   "outputs": [],
   "source": [
    "# Reclassify health density with reclass_5 function and quintile values.\n",
    "zcta_health['health_density_reclass'] = zcta_health['health_density'].apply(lambda x: reclass_5(x, health_quints, 'high'))"
   ]
  },
  {
   "cell_type": "code",
   "execution_count": null,
   "id": "f54544ae-ac09-4c37-9017-5a0ac8588341",
   "metadata": {},
   "outputs": [],
   "source": [
    "# View top and bottom five health-service-dense ZCTAs.\n",
    "zcta_health.sort_values(by='health_density_reclass', ascending=False)"
   ]
  },
  {
   "cell_type": "code",
   "execution_count": null,
   "id": "12a1acb5-0da3-4d60-aab6-dc1f34600d52",
   "metadata": {
    "tags": []
   },
   "outputs": [],
   "source": [
    "# Map the average rent price in each ZCTA.\n",
    "ax = rt_zcta.plot(color='lightgrey', edgecolor='grey', figsize=(12,12))\n",
    "zcta_health.plot(column='health_density_reclass',\n",
    "                 legend=True,\n",
    "                 edgecolor='black',\n",
    "                 cmap='plasma_r',\n",
    "                 legend_kwds={'label': \"Reclassified health density\"},\n",
    "                 ax=ax)\n",
    "plt.title('Reclassified Density of Health Services by ZCTA in Boston Region', fontsize=16)\n",
    "plt.show()"
   ]
  },
  {
   "cell_type": "markdown",
   "id": "503a4c3c-2030-41f3-bb02-36826ad82f73",
   "metadata": {},
   "source": [
    "### Public Services Within Extent\n",
    "Public services were defined in terms of safety (fire and police) and availability of public resources (USPS Post Offices and libraries). Fire stations and police stations were obtained from MassGIS. USPS data was obtained from [USPS](https://uspstools.maps.arcgis.com/apps/webappviewer/index.html?id=1fc1c26bb31246b39087606c65b83020) as a CSV of Destination Delivery Units (DDUs) in a specified map extent. Libraries were found using OSM."
   ]
  },
  {
   "cell_type": "markdown",
   "id": "e9f24c0e-c595-4866-87fd-5f8b76a4de6f",
   "metadata": {},
   "source": [
    "#### Fire Stations"
   ]
  },
  {
   "cell_type": "code",
   "execution_count": null,
   "id": "bf1941be-4640-4dab-b53f-85977798dbcf",
   "metadata": {
    "tags": []
   },
   "outputs": [],
   "source": [
    "# read_n_clip firestations shapefile from MassGIS and view info.\n",
    "fire = read_n_clip('./data/firestations_pt/FIRESTATIONS_PT_MEMA.shp', rt_zcta)\n",
    "fire.info()"
   ]
  },
  {
   "cell_type": "code",
   "execution_count": null,
   "id": "5b3ec5fe-a86d-4339-b819-04c4953a67e8",
   "metadata": {},
   "outputs": [],
   "source": [
    "# View first five rows of fire GDF.\n",
    "fire.head()"
   ]
  },
  {
   "cell_type": "code",
   "execution_count": null,
   "id": "2b782324-f106-44d4-b010-f697a3255344",
   "metadata": {},
   "outputs": [],
   "source": [
    "# Use count_records on fire.\n",
    "zcta_fire_count = count_records(fire, rt_zcta, 'ZCTA5CE00', 'fire_count')\n",
    "zcta_fire_count"
   ]
  },
  {
   "cell_type": "markdown",
   "id": "7487932d-3631-4337-8dc7-515260239e27",
   "metadata": {},
   "source": [
    "#### Police Stations"
   ]
  },
  {
   "cell_type": "code",
   "execution_count": null,
   "id": "141968e9-f7a9-4ec3-aad2-3940844b5552",
   "metadata": {
    "tags": []
   },
   "outputs": [],
   "source": [
    "# read_n_clip police stations shapefile from MassGIS and view info.\n",
    "police = read_n_clip('./data/policestations/POLICESTATIONS_PT_MEMA.shp', rt_zcta)\n",
    "police.info()"
   ]
  },
  {
   "cell_type": "code",
   "execution_count": null,
   "id": "7987b1e2-c0d5-4c0f-b644-c286094c100d",
   "metadata": {
    "tags": []
   },
   "outputs": [],
   "source": [
    "# View first five rows of police GDF.\n",
    "police.head()"
   ]
  },
  {
   "cell_type": "code",
   "execution_count": null,
   "id": "3564c271-51f0-47f1-aa13-5dbb2d1b9d07",
   "metadata": {},
   "outputs": [],
   "source": [
    "# Use count_records on police.\n",
    "zcta_police_count = count_records(police, rt_zcta, 'ZCTA5CE00', 'police_count')\n",
    "zcta_police_count"
   ]
  },
  {
   "cell_type": "markdown",
   "id": "c0315a3c-6073-44f7-b9eb-798ca67bd2ad",
   "metadata": {},
   "source": [
    "#### USPS Post Offices"
   ]
  },
  {
   "cell_type": "code",
   "execution_count": null,
   "id": "b95ef534-4852-43a6-a6c0-aeb8364aaa54",
   "metadata": {},
   "outputs": [],
   "source": [
    "# Read in CSV files of USPS DDUs (Destination Delivery Units) obtained from USPS.\n",
    "usps_df = pd.read_csv('./data/USPS DDUs.csv')\n",
    "# Convert to GeoDataFrame, setting CRS to WGS 84 Pseudo Mercator EPSG:3857.\n",
    "usps = gpd.GeoDataFrame(usps_df, geometry=gpd.points_from_xy(usps_df.x, usps_df.y))\n",
    "usps = usps.set_crs('epsg:3857')"
   ]
  },
  {
   "cell_type": "code",
   "execution_count": null,
   "id": "add198cd-198e-43c8-a1fc-8838af8a7920",
   "metadata": {},
   "outputs": [],
   "source": [
    "# View usps GDF.\n",
    "usps"
   ]
  },
  {
   "cell_type": "code",
   "execution_count": null,
   "id": "a98005b9-e2ae-4cb8-8338-1d6bf2b7e510",
   "metadata": {},
   "outputs": [],
   "source": [
    "# convert_n_clip usps using rt_zcta.\n",
    "usps = convert_n_clip(usps, rt_zcta)\n",
    "usps.info()"
   ]
  },
  {
   "cell_type": "code",
   "execution_count": null,
   "id": "a026f8ae-ace2-4b46-9df1-385f3e9d6e53",
   "metadata": {},
   "outputs": [],
   "source": [
    "# View first five rows of usps GDF.\n",
    "usps.head()"
   ]
  },
  {
   "cell_type": "code",
   "execution_count": null,
   "id": "6a1fb07b-6cb5-4ccd-923d-af52a2642e35",
   "metadata": {},
   "outputs": [],
   "source": [
    "# Use count_records on usps.\n",
    "zcta_usps_count = count_records(usps, rt_zcta, 'ZCTA5CE00', 'usps_count')\n",
    "zcta_usps_count"
   ]
  },
  {
   "cell_type": "markdown",
   "id": "aaea262f-3235-44cf-99da-1c936d7cf338",
   "metadata": {},
   "source": [
    "#### Libraries"
   ]
  },
  {
   "cell_type": "code",
   "execution_count": null,
   "id": "b3e28fd7-ea51-4e13-89c1-a29779851a18",
   "metadata": {},
   "outputs": [],
   "source": [
    "# Retrieve library features within graph_extent_latlong from OSMnx and view info.\n",
    "library_tags = {'amenity':['library']}\n",
    "library = ox.geometries_from_polygon(graph_extent_latlong, library_tags)\n",
    "library = convert_n_clip(library, rt_zcta)\n",
    "library.info()"
   ]
  },
  {
   "cell_type": "code",
   "execution_count": null,
   "id": "768725c7-8ea5-4a35-85f9-ce13c438f963",
   "metadata": {},
   "outputs": [],
   "source": [
    "# View first five rows of library GDF.\n",
    "library.head()"
   ]
  },
  {
   "cell_type": "code",
   "execution_count": null,
   "id": "787eabf3-0301-4673-a666-8bcd3a488d6f",
   "metadata": {},
   "outputs": [],
   "source": [
    "# Use count_records on library.\n",
    "zcta_library_count = count_records(library, rt_zcta, 'ZCTA5CE00', 'library_count')\n",
    "zcta_library_count"
   ]
  },
  {
   "cell_type": "markdown",
   "id": "2980d15b-7173-4c4b-9fca-753c5ec25474",
   "metadata": {},
   "source": [
    "#### Calculate Public Services Density per ZCTA"
   ]
  },
  {
   "cell_type": "code",
   "execution_count": null,
   "id": "dc4386ea-dff6-41ce-922e-01fc4e03b9af",
   "metadata": {},
   "outputs": [],
   "source": [
    "# Use calc_density to calculate density of public services per ZCTA.\n",
    "public_service_gdfs = [zcta_fire_count, zcta_police_count, zcta_usps_count, zcta_library_count]\n",
    "public_service_cols = ['fire_count', 'police_count', 'usps_count', 'library_count']\n",
    "zcta_public_service = calc_density(rt_zcta, public_service_gdfs, ['ZCTA5CE00'], 'left', public_service_cols, 'public_service_count', 'public_service_density')"
   ]
  },
  {
   "cell_type": "code",
   "execution_count": null,
   "id": "320883a5-4243-4277-954d-ada64252ee9f",
   "metadata": {},
   "outputs": [],
   "source": [
    "# View five most public-service-dense ZCTAs.\n",
    "zcta_public_service.sort_values(by='public_service_density', ascending=False).head()"
   ]
  },
  {
   "cell_type": "code",
   "execution_count": null,
   "id": "2f60a6db-38bc-45a9-a3dd-dac571085cb9",
   "metadata": {},
   "outputs": [],
   "source": [
    "# View stats for public_service_density\n",
    "zcta_public_service.public_service_density.describe()"
   ]
  },
  {
   "cell_type": "code",
   "execution_count": null,
   "id": "b22fc157-4cf4-482d-929a-8a9c754ad58a",
   "metadata": {},
   "outputs": [],
   "source": [
    "# Map the density of public services in each ZCTA.\n",
    "ax = rt_zcta.plot(color='lightgrey', edgecolor='grey', figsize=(12,12))\n",
    "zcta_public_service.plot(column='public_service_density',\n",
    "                         legend=True,\n",
    "                         edgecolor='black',\n",
    "                         cmap='YlGnBu',\n",
    "                         legend_kwds={'label': \"Public services per sqkm\"},\n",
    "                         ax=ax)\n",
    "plt.title('Density of Public Services by ZCTA in Boston Region', fontsize=16)\n",
    "plt.show()"
   ]
  },
  {
   "cell_type": "markdown",
   "id": "9236d2c5-79cc-4dad-9aa6-ab3e4ce0762f",
   "metadata": {},
   "source": [
    "#### Reclassify Public Services Density"
   ]
  },
  {
   "cell_type": "code",
   "execution_count": null,
   "id": "8848a4fd-01c4-4866-889b-7d691bba0ae8",
   "metadata": {},
   "outputs": [],
   "source": [
    "# Calculate values to separate public service density into five quantiles.\n",
    "public_service_quints = quantiles(zcta_public_service, 'public_service_density', quintiles)\n",
    "public_service_quints"
   ]
  },
  {
   "cell_type": "code",
   "execution_count": null,
   "id": "556886e4-3ba5-4338-9a37-71ca29b43fd3",
   "metadata": {
    "tags": []
   },
   "outputs": [],
   "source": [
    "# Reclassify public service density with reclass_5 function and quintile values.\n",
    "zcta_public_service['public_service_density_reclass'] = zcta_public_service['public_service_density'].apply(lambda x: reclass_5(x, public_service_quints, 'high'))"
   ]
  },
  {
   "cell_type": "code",
   "execution_count": null,
   "id": "a0d804be-b5b1-4615-9787-229ef4bc29c6",
   "metadata": {},
   "outputs": [],
   "source": [
    "# View top and bottom five health-service-dense ZCTAs.\n",
    "zcta_public_service.sort_values(by='public_service_density_reclass', ascending=False)"
   ]
  },
  {
   "cell_type": "code",
   "execution_count": null,
   "id": "da894325-7dad-4e44-b3a5-b36ee5b47921",
   "metadata": {
    "tags": []
   },
   "outputs": [],
   "source": [
    "# Map reclassified public service density in each ZCTA.\n",
    "ax = rt_zcta.plot(color='lightgrey', edgecolor='grey', figsize=(12,12))\n",
    "zcta_public_service.plot(column='public_service_density_reclass',\n",
    "                         legend=True,\n",
    "                         edgecolor='black',\n",
    "                         cmap='plasma_r',\n",
    "                         legend_kwds={'label': \"Reclassified public service density\"},\n",
    "                         ax=ax)\n",
    "plt.title('Reclassified Density of Public Services by ZCTA in Boston Region', fontsize=16)\n",
    "plt.show()"
   ]
  },
  {
   "cell_type": "markdown",
   "id": "b70e9461-0613-4086-bf05-c2158bf6e58b",
   "metadata": {
    "tags": []
   },
   "source": [
    "ax = rt_zcta.plot(color='lightgrey', edgecolor='grey', figsize=(12,12))\n",
    "boston_water.plot(ax=ax, alpha=0.3)\n",
    "grocery.plot(ax=ax, markersize=15, color='yellow', label='Groceries')\n",
    "healthcare.plot(ax=ax, markersize=15, color='aquamarine', label='Healthcare')\n",
    "comm_health.plot(ax=ax, markersize=15, color='coral', label='Community Health Centers')\n",
    "hospitals.plot(ax=ax, markersize=20, color='orangered', label='Hospitals')\n",
    "public_service.plot(ax=ax, markersize=10, color='dodgerblue', label='Public Services')\n",
    "plt.title('Necessary Amenities within Boston Region Rapid Transit Extent', fontsize=16)\n",
    "plt.legend()\n",
    "plt.show()"
   ]
  },
  {
   "cell_type": "markdown",
   "id": "b9f1c76e-6741-4a80-b91b-8053a975da4e",
   "metadata": {},
   "source": [
    "---"
   ]
  },
  {
   "cell_type": "markdown",
   "id": "790a5beb-5643-4bfd-8487-2b9ead0225c9",
   "metadata": {},
   "source": [
    "## Calculate Weighted Suitability Index\n",
    "Analyzing the reclassification maps of each indicator (mass transit, rent affordability, food establishment, health services, and public services), there is significant variation in desirable ZCTAs for each indicator. A weighted index was created to compare overall suitability across all indicators."
   ]
  },
  {
   "cell_type": "markdown",
   "id": "4a5c87ec-e4f3-4948-8cae-e11476766e80",
   "metadata": {},
   "source": [
    "### Add Reclassification Columns to ZCTAs"
   ]
  },
  {
   "cell_type": "code",
   "execution_count": null,
   "id": "40bdcb20-874f-4837-b938-4503c35f8893",
   "metadata": {},
   "outputs": [],
   "source": [
    "# Add analysis and reclass columns to base rt_zcta using function multimerge and view info to confirm success.\n",
    "indicators_list = [zcta_nodes, zcta_rent, zcta_food, zcta_health, zcta_public_service]\n",
    "on_cols = ['index', 'STATEFP00', 'ZCTA5CE00', 'GEOID00', 'CLASSFP00', 'MTFCC00', 'FUNCSTAT00', 'ALAND00', 'AWATER00', 'INTPTLAT00', 'INTPTLON00', 'PARTFLG00', 'geometry']\n",
    "zcta_index = multimerge(rt_zcta, indicators_list, on_cols, 'left')\n",
    "zcta_index.info()"
   ]
  },
  {
   "cell_type": "markdown",
   "id": "0a8b41f9-6e18-478e-9663-2630173a8d2e",
   "metadata": {},
   "source": [
    "### Calculate Weighted Index\n",
    "A weighted index is highly subjective. Some may value availability of food over cost of rent, while others may value convenience of public transit over all else. For the purposes of this study (ostensibly concerned with living as a student without a car), rent affordability was given the most weight (35%) while transit and food were given equal weights (20% each). Health services were valued next (15%) and public services last (10%). \n",
    "\n",
    "Because rental data was only available in a segment of ZCTAs, `NaN` values were preserved across index calculations to ensure a fair comparison."
   ]
  },
  {
   "cell_type": "code",
   "execution_count": null,
   "id": "64a6c5c9-026a-4d2f-a3ac-fc008541c9d7",
   "metadata": {},
   "outputs": [],
   "source": [
    "# Calculate weighted index and view info.\n",
    "zcta_index['weighted'] = zcta_index.nodes_density_reclass*0.2 + zcta_index.rent_median_reclass*0.35 + zcta_index.food_density_reclass*0.2 + zcta_index.health_density_reclass*0.15 + zcta_index.public_service_density_reclass*0.1\n",
    "zcta_index.info()"
   ]
  },
  {
   "cell_type": "code",
   "execution_count": null,
   "id": "344396a8-4d0d-42cc-a6c6-4a24eb2154a4",
   "metadata": {},
   "outputs": [],
   "source": [
    "# View top and bottom five weighted ZCTAs.\n",
    "zcta_index.sort_values(by='weighted', ascending=False)"
   ]
  },
  {
   "cell_type": "code",
   "execution_count": null,
   "id": "66acb87b-8834-4116-86dc-c3fa9799f73f",
   "metadata": {
    "tags": []
   },
   "outputs": [],
   "source": [
    "# Map the weighted index in each ZCTA.\n",
    "ax = rt_zcta.plot(color='lightgrey', edgecolor='grey', figsize=(12,12))\n",
    "boston_water.plot(ax=ax, color='white', alpha=0.3, zorder=10)\n",
    "tufts_bu.plot(ax=ax, color='aquamarine', markersize=50, zorder=5)\n",
    "zcta_index.plot(column='weighted',\n",
    "                 legend=True,\n",
    "                 edgecolor='black',\n",
    "                 cmap='plasma_r',\n",
    "                 legend_kwds={'label': \"Weighted suitability index\"},\n",
    "                 ax=ax)\n",
    "plt.title('Weighted Suitability of Living in Boston Region ZCTAs', fontsize=16)\n",
    "plt.show()"
   ]
  },
  {
   "cell_type": "markdown",
   "id": "9fe175d2-7377-4ee9-9c8d-83b37203ed04",
   "metadata": {},
   "source": [
    "## Bike Facilities"
   ]
  },
  {
   "cell_type": "code",
   "execution_count": null,
   "id": "21052740-e380-4d6f-86c4-3bf298e69c49",
   "metadata": {},
   "outputs": [],
   "source": []
  },
  {
   "cell_type": "markdown",
   "id": "50347c54-1126-45a4-b085-2d00f1d65cb2",
   "metadata": {},
   "source": [
    "## Leisure"
   ]
  },
  {
   "cell_type": "markdown",
   "id": "84b42023-eb1d-4b03-a844-e4714789e2c4",
   "metadata": {},
   "source": [
    "### Find Leisure Features with OSMnx"
   ]
  },
  {
   "cell_type": "code",
   "execution_count": null,
   "id": "7d661c8c-3361-4c45-be1b-e2130888cd6d",
   "metadata": {},
   "outputs": [],
   "source": [
    "# Retrieve leisure features within graph_extent_latlong from OSMnx and view info.\n",
    "leisure_tags = {'leisure':True, 'amenity':['bar', 'biergarten', 'ice_cream', 'pub', 'bicycle_rental', 'arts_centre', 'cinema', 'nightclub', 'planetarium', 'social_centre', 'theatre', 'bbq']}\n",
    "leisure = ox.geometries_from_polygon(graph_extent_latlong, leisure_tags)\n",
    "leisure = convert_n_clip(leisure, rt_zcta)\n",
    "leisure.info()"
   ]
  },
  {
   "cell_type": "code",
   "execution_count": null,
   "id": "f762fe30-ec3b-4d45-8c71-a1f251a9f0cf",
   "metadata": {},
   "outputs": [],
   "source": [
    "# View first five rows of leisure GDF.\n",
    "leisure.head()"
   ]
  },
  {
   "cell_type": "markdown",
   "id": "671178f1-2920-4aaa-a812-5d3178cf527f",
   "metadata": {},
   "source": [
    "### Calculate Leisure Density"
   ]
  },
  {
   "cell_type": "code",
   "execution_count": null,
   "id": "715992e7-012c-4086-b861-c98dca2fbc7d",
   "metadata": {},
   "outputs": [],
   "source": [
    "# Use count_records on leisure.\n",
    "zcta_leisure_count = count_records(leisure, rt_zcta, 'ZCTA5CE00', 'leisure_count')\n",
    "zcta_leisure_count"
   ]
  },
  {
   "cell_type": "code",
   "execution_count": null,
   "id": "fdd84b82-3667-44a9-bb54-de53672a6fe1",
   "metadata": {},
   "outputs": [],
   "source": [
    "# Calculate node density in nodes/sqkm.\n",
    "zcta_nodes['nodes_density'] = zcta_nodes.nodes_count/zcta_nodes.area*(10**6)\n",
    "zcta_nodes.sort_values(by='nodes_density', ascending=False).head()"
   ]
  },
  {
   "cell_type": "code",
   "execution_count": null,
   "id": "af8a1350-dceb-4e9d-8956-175a6365a525",
   "metadata": {},
   "outputs": [],
   "source": [
    "# View statistics for nodes_density.\n",
    "zcta_nodes.nodes_density.describe()"
   ]
  },
  {
   "cell_type": "code",
   "execution_count": null,
   "id": "8d7d3e6c-3027-4bdc-899e-f757f2b58f05",
   "metadata": {},
   "outputs": [],
   "source": []
  },
  {
   "cell_type": "markdown",
   "id": "274bfd3c-c292-41d7-bf46-78230a215537",
   "metadata": {},
   "source": [
    "---"
   ]
  },
  {
   "cell_type": "markdown",
   "id": "02a5a631-8090-4711-9bb8-4bf229dbe5ec",
   "metadata": {},
   "source": [
    "# Appendix"
   ]
  },
  {
   "cell_type": "markdown",
   "id": "a0871693-8086-4ca2-87c7-aa55bc1dc774",
   "metadata": {},
   "source": [
    "## Zillow Data Analysis\n",
    "Zillow data was analyzed but ultimately not used for the following reasons:\n",
    "- The dataset is national and has limited information--only zipcodes, region names, and average monthly rental values.\n",
    "- Fewer zipcodes were represented in Zillow data than Padmapper data.\n",
    "- Zillow data represents only an average across entire zipcodes. Analyzing specific home types (such as defining numbers of bedrooms) was not possible with this data.\n",
    "\n",
    "The analysis was preserved in the Appendix as an example and to compare with Padmapper data for those interested."
   ]
  },
  {
   "cell_type": "markdown",
   "id": "bb3b76f9-df5e-441d-9634-19094e31b95f",
   "metadata": {},
   "source": [
    "### Read In and Pre-Process National Zillow Data"
   ]
  },
  {
   "cell_type": "code",
   "execution_count": null,
   "id": "9f76c358-8867-4df4-a0db-2ec3e07909ce",
   "metadata": {},
   "outputs": [],
   "source": [
    "# Read in CSV file of Zillow rental data.\n",
    "zillow_df = pd.read_csv('./data/Zip_ZORI_AllHomesPlusMultifamily_SSA.csv')\n",
    "zillow_df"
   ]
  },
  {
   "cell_type": "code",
   "execution_count": null,
   "id": "76f50cce-1d0d-47a5-9b3a-5bb2625fdaeb",
   "metadata": {},
   "outputs": [],
   "source": [
    "# View columns.\n",
    "zillow_df.columns"
   ]
  },
  {
   "cell_type": "code",
   "execution_count": null,
   "id": "91931c2e-acdf-44f7-9396-708da1432e67",
   "metadata": {},
   "outputs": [],
   "source": [
    "# Narrow down to three years of data.\n",
    "zillow_df = zillow_df.drop(columns=['2014-01', '2014-02',\n",
    "       '2014-03', '2014-04', '2014-05', '2014-06', '2014-07', '2014-08',\n",
    "       '2014-09', '2014-10', '2014-11', '2014-12', '2015-01', '2015-02',\n",
    "       '2015-03', '2015-04', '2015-05', '2015-06', '2015-07', '2015-08',\n",
    "       '2015-09', '2015-10', '2015-11', '2015-12', '2016-01', '2016-02',\n",
    "       '2016-03', '2016-04', '2016-05', '2016-06', '2016-07', '2016-08',\n",
    "       '2016-09', '2016-10', '2016-11', '2016-12', '2017-01', '2017-02',\n",
    "       '2017-03', '2017-04', '2017-05', '2017-06', '2017-07', '2017-08',\n",
    "       '2017-09', '2017-10', '2017-11', '2017-12'])\n",
    "zillow_df"
   ]
  },
  {
   "cell_type": "code",
   "execution_count": null,
   "id": "19b82fd5-d349-4c95-9569-ea9d46e05765",
   "metadata": {},
   "outputs": [],
   "source": [
    "# Before merging, view datatypes for zip code columns in zillow_df and rt_zcta.\n",
    "print(rt_zcta.ZCTA5CE00.dtype)\n",
    "print(zillow_df.RegionName.dtype)"
   ]
  },
  {
   "cell_type": "code",
   "execution_count": null,
   "id": "2763758a-4086-4537-a266-4e30866d8417",
   "metadata": {},
   "outputs": [],
   "source": [
    "# Convert Zillow's zipcode column to string and fill in leading zeroes.\n",
    "zillow_df.RegionName = zillow_df.RegionName.astype('string').str.zfill(5)\n",
    "zillow_df"
   ]
  },
  {
   "cell_type": "code",
   "execution_count": null,
   "id": "acb85a00-b562-4b46-b7d5-a37d5bf203cd",
   "metadata": {},
   "outputs": [],
   "source": [
    "# Merge zillow_df and rt_zcta on zipcode columns and view info.\n",
    "zcta_zillow = rt_zcta.merge(zillow_df, left_on='ZCTA5CE00', right_on='RegionName', how='left')\n",
    "zcta_zillow.info()"
   ]
  },
  {
   "cell_type": "code",
   "execution_count": null,
   "id": "4cca3782-fc3a-493d-9d35-292c4388a841",
   "metadata": {},
   "outputs": [],
   "source": [
    "# View first and last five columns of Zillow data.\n",
    "zcta_zillow"
   ]
  },
  {
   "cell_type": "markdown",
   "id": "9b6ec04c-0297-4b7e-b861-41f34d083722",
   "metadata": {},
   "source": [
    "### Calculate Average Rent Across Years"
   ]
  },
  {
   "cell_type": "code",
   "execution_count": null,
   "id": "f0211fa8-d234-4c84-8f4d-6e6b37a80fa2",
   "metadata": {},
   "outputs": [],
   "source": [
    "# Define column lists for years.\n",
    "cols_rent = ['2018-01', '2018-02',\n",
    "             '2018-03', '2018-04', '2018-05', '2018-06', '2018-07', '2018-08',\n",
    "             '2018-09', '2018-10', '2018-11', '2018-12', '2019-01', '2019-02',\n",
    "             '2019-03', '2019-04', '2019-05', '2019-06', '2019-07', '2019-08',\n",
    "             '2019-09', '2019-10', '2019-11', '2019-12', '2020-01', '2020-02',\n",
    "             '2020-03', '2020-04', '2020-05', '2020-06', '2020-07', '2020-08',\n",
    "             '2020-09', '2020-10', '2020-11', '2020-12', '2021-01', '2021-02',\n",
    "             '2021-03']\n",
    "cols_2018 = ['2018-01', '2018-02', \n",
    "             '2018-03', '2018-04', '2018-05', '2018-06', '2018-07', '2018-08',\n",
    "             '2018-09', '2018-10', '2018-11', '2018-12']\n",
    "cols_2019 = ['2019-01', '2019-02',\n",
    "             '2019-03', '2019-04', '2019-05', '2019-06', '2019-07', '2019-08',\n",
    "             '2019-09', '2019-10', '2019-11', '2019-12']\n",
    "cols_2020 = ['2020-01', '2020-02',\n",
    "             '2020-03', '2020-04', '2020-05', '2020-06', '2020-07', '2020-08',\n",
    "             '2020-09', '2020-10', '2020-11', '2020-12']\n",
    "cols_2021 = ['2021-01', '2021-02', '2021-03']"
   ]
  },
  {
   "cell_type": "code",
   "execution_count": null,
   "id": "99df428a-4a04-47c9-8f63-bd9eead1c870",
   "metadata": {},
   "outputs": [],
   "source": [
    "# Calculate yearly and overall average rental prices.\n",
    "zcta_zillow['avg_2018'] = zcta_zillow[cols_2018].mean(axis=1)\n",
    "zcta_zillow['avg_2019'] = zcta_zillow[cols_2019].mean(axis=1)\n",
    "zcta_zillow['avg_2020'] = zcta_zillow[cols_2020].mean(axis=1)\n",
    "zcta_zillow['avg_2021'] = zcta_zillow[cols_2021].mean(axis=1)\n",
    "zcta_zillow['avg_rent'] = zcta_zillow[cols_rent].mean(axis=1)\n",
    "zcta_zillow"
   ]
  },
  {
   "cell_type": "code",
   "execution_count": null,
   "id": "a60ba5d7-7661-49ea-aa48-3536faa830e4",
   "metadata": {},
   "outputs": [],
   "source": [
    "# Map the average Zillow rent price in each ZCTA.\n",
    "ax = rt_zcta.plot(color='lightgrey', edgecolor='grey', figsize=(12,12))\n",
    "zcta_zillow.plot(column='avg_rent',\n",
    "                 legend=True,\n",
    "                 edgecolor='black',\n",
    "                 cmap='OrRd',\n",
    "                 legend_kwds={'label': \"Average rental price\"},\n",
    "                 ax=ax)\n",
    "bos_rt_node.plot(ax=ax, color='green', markersize=15, label='Rapid Transit Stop')\n",
    "bos_rt_route.plot(ax=ax, color='green', label='Rapid Transit Route')\n",
    "plt.title('Average Zillow Rental Price by ZCTA in Boston Region', fontsize=16)\n",
    "plt.show()"
   ]
  }
 ],
 "metadata": {
  "kernelspec": {
   "display_name": "Python 3",
   "language": "python",
   "name": "python3"
  },
  "language_info": {
   "codemirror_mode": {
    "name": "ipython",
    "version": 3
   },
   "file_extension": ".py",
   "mimetype": "text/x-python",
   "name": "python",
   "nbconvert_exporter": "python",
   "pygments_lexer": "ipython3",
   "version": "3.8.8"
  },
  "toc-autonumbering": false,
  "toc-showcode": false,
  "toc-showmarkdowntxt": false,
  "toc-showtags": false
 },
 "nbformat": 4,
 "nbformat_minor": 5
}
