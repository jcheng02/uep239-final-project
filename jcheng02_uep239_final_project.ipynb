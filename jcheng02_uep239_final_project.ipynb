{
 "cells": [
  {
   "cell_type": "markdown",
   "id": "2797b223-5b0a-46e8-b0e3-a22eb761a051",
   "metadata": {},
   "source": [
    "# Suitability Analysis: Best place within the Boston Region for a Tufts UEP student and BU Law student to live without a car \n",
    "UEP-239 Final Project\\\n",
    "By: Justina Cheng"
   ]
  },
  {
   "cell_type": "markdown",
   "id": "a833dec5-13ce-4f12-a65a-b837f49a2931",
   "metadata": {},
   "source": [
    "[DESCRIPTION]"
   ]
  },
  {
   "cell_type": "markdown",
   "id": "f43d37ea-783d-4bd1-9b1c-1a6e3da20df3",
   "metadata": {},
   "source": [
    "## Import Dependencies"
   ]
  },
  {
   "cell_type": "code",
   "execution_count": null,
   "id": "b0f3d2fa-1689-48de-b9f0-f42e6bebbe6f",
   "metadata": {},
   "outputs": [],
   "source": [
    "import numpy as np\n",
    "import pandas as pd\n",
    "import geopandas as gpd\n",
    "import matplotlib.pyplot as plt\n",
    "import seaborn as sns\n",
    "import math\n",
    "from scipy import stats\n",
    "\n",
    "import folium\n",
    "from folium import Choropleth, Circle, Marker\n",
    "from folium.plugins import HeatMap, MarkerCluster\n",
    "\n",
    "import osmnx as ox\n",
    "import networkx as nx\n",
    "from geopy.geocoders import Nominatim\n",
    "from pyproj import CRS\n",
    "from shapely.geometry import LineString, Point, Polygon, box\n",
    "\n",
    "import rasterio\n",
    "from rasterio.plot import show\n",
    "from rasterio import features\n",
    "\n",
    "import richdem as rd\n",
    "from scipy import ndimage\n",
    "from rasterstats import zonal_stats"
   ]
  },
  {
   "cell_type": "markdown",
   "id": "54489ff9-afe7-4b59-92a4-58fe7b022b30",
   "metadata": {},
   "source": [
    "## Create and View Base Map of Boston Region Zip Code Tabulation Areas (ZCTAs)\n",
    "To create a GeoDataFrame of the Boston Region ZCTAs, the following steps were used:\n",
    "1. Massachusetts outline with detailed coastline was imported from MassGIS as a GeoDataFrame.\n",
    "1. Massachusetts ZCTAs were imported from the Census Bureau as a GeoDataFrame.\n",
    "1. The outline and ZCTAs GeoDataFrames were converted to the coordinate reference system (CRS) for the Massachusetts Mainland EPSG 6491.\n",
    "1. Boundaries for the Boston Region Metropolitan Planning Organization (MPO) were imported from MassDOT as a GeoDataFrame, and the CRS was converted to EPSG 6491.\n",
    "1. The Boston Region was extracted from the MPO.\n",
    "1. Massachusetts ZCTAs within the Boston Region were extracted using the centroid of the ZCTAs.\n",
    "1. Function `convert_n_clip` was created to convert a GDF to the CRS of another GDF and clip to the other's extent.\n",
    "1. Function `read_n_clip` was created to read in a shapefile and use `convert_n_clip` to convert it to the CRS of another GDF and clip to the other's extent.\n",
    "1. Massachusetts Surface Water data from MassGIS was processed with `read_n_clip` with the extent of Boston ZCTAs. "
   ]
  },
  {
   "cell_type": "markdown",
   "id": "b94f01b1-d69d-4937-b744-6f31c9fb0fbd",
   "metadata": {},
   "source": [
    "### Massachusetts Coastline"
   ]
  },
  {
   "cell_type": "code",
   "execution_count": null,
   "id": "a5fffcdb-8f8c-435e-b250-c0af86dd30ad",
   "metadata": {
    "tags": []
   },
   "outputs": [],
   "source": [
    "# Import outline of detailed Massachusetts coastline.\n",
    "outline_25k = gpd.read_file(\"./data/outline25k/OUTLINE25K_POLY.shp\")\n",
    "outline_25k.info()"
   ]
  },
  {
   "cell_type": "code",
   "execution_count": null,
   "id": "9852aa5e-97b0-4d11-b516-523ca2d22d81",
   "metadata": {
    "tags": []
   },
   "outputs": [],
   "source": [
    "# View CRS and plot.\n",
    "print(outline_25k.crs)\n",
    "outline_25k.plot(figsize=(12,12))\n",
    "plt.title('Massachusetts Detailed Coastline', fontsize=16)\n",
    "plt.show()"
   ]
  },
  {
   "cell_type": "markdown",
   "id": "3b544615-97e9-4db3-a37e-8aa4ab3d7ff2",
   "metadata": {},
   "source": [
    "### Massachusetts ZCTAs"
   ]
  },
  {
   "cell_type": "code",
   "execution_count": null,
   "id": "55132fb9-80b7-4ea7-b375-97504ccee78f",
   "metadata": {
    "tags": []
   },
   "outputs": [],
   "source": [
    "# Import Zip Code Tabulation Areas within Massachusetts.\n",
    "ma_zcta = gpd.read_file(\"./data/tl_2010_25_zcta500/tl_2010_25_zcta500.shp\")\n",
    "ma_zcta.info()"
   ]
  },
  {
   "cell_type": "code",
   "execution_count": null,
   "id": "f21df122-7108-402d-99ca-20670881ba27",
   "metadata": {
    "tags": []
   },
   "outputs": [],
   "source": [
    "# View CRS and plot.\n",
    "print(ma_zcta.crs)\n",
    "ma_zcta.plot(figsize=(12,12))\n",
    "plt.title('Massachusetts ZCTAs', fontsize=16)\n",
    "plt.show()"
   ]
  },
  {
   "cell_type": "code",
   "execution_count": null,
   "id": "cd5a775d-f89b-4d1d-99b5-fd0f11ddfc0e",
   "metadata": {},
   "outputs": [],
   "source": [
    "# Convert CRS to Massachusetts Mainland EPSG 6491.\n",
    "outline_25k = outline_25k.to_crs('epsg:6491')\n",
    "ma_zcta = ma_zcta.to_crs('epsg:6491')\n",
    "# Confirm CRSs match.\n",
    "outline_25k.crs == ma_zcta.crs"
   ]
  },
  {
   "cell_type": "code",
   "execution_count": null,
   "id": "7ddfc2ba-3271-4c3c-b699-762b3dbaae2b",
   "metadata": {},
   "outputs": [],
   "source": [
    "# Clip ZCTA GDF to 25k MA outline.\n",
    "ma_zcta_25k = gpd.clip(ma_zcta, outline_25k)\n",
    "ma_zcta_25k.info()"
   ]
  },
  {
   "cell_type": "markdown",
   "id": "c2adfc99-bc94-4478-882a-28f4783941bf",
   "metadata": {},
   "source": [
    "### Boston Region Metropolitan Planning Organization (MPO)"
   ]
  },
  {
   "cell_type": "code",
   "execution_count": null,
   "id": "0ef7d906-f795-4831-90ce-0d3209f092b2",
   "metadata": {
    "tags": []
   },
   "outputs": [],
   "source": [
    "# Import boundaries from Boston Region Metropolitan Planning Organization.\n",
    "mpo = gpd.read_file(\"./data/MPO_Boundaries/MPO_Boundaries.shp\")\n",
    "mpo.info()"
   ]
  },
  {
   "cell_type": "code",
   "execution_count": null,
   "id": "58c50dab-0e16-4e46-a24d-552fafe5f133",
   "metadata": {},
   "outputs": [],
   "source": [
    "# View MPO dataset.\n",
    "mpo"
   ]
  },
  {
   "cell_type": "code",
   "execution_count": null,
   "id": "c69752ed-9aab-4828-96fd-d9b9b82ac348",
   "metadata": {
    "tags": []
   },
   "outputs": [],
   "source": [
    "# Convert MPO CRS to EPSG 6491 and plot.\n",
    "mpo = mpo.to_crs('epsg:6491')\n",
    "mpo.plot(figsize=(12,12))\n",
    "plt.title('Boston Region MPO Boundaries', fontsize=16)\n",
    "plt.show()"
   ]
  },
  {
   "cell_type": "code",
   "execution_count": null,
   "id": "4d802e3a-fbcb-401c-a759-dc44c4223135",
   "metadata": {
    "tags": []
   },
   "outputs": [],
   "source": [
    "# Extract only Boston Region from MPO.\n",
    "boston_region = mpo.loc[mpo.MPO == 'Boston Region'].reset_index()\n",
    "boston_region"
   ]
  },
  {
   "cell_type": "code",
   "execution_count": null,
   "id": "832d30af-13f8-4d26-9ab6-a91ae0a4de61",
   "metadata": {},
   "outputs": [],
   "source": [
    "# Extract ZCTAs within the Boston Region using the centroid of the ZCTAs.\n",
    "boston_zcta = ma_zcta_25k[ma_zcta_25k.centroid.within(boston_region.geometry[0])].reset_index()\n",
    "boston_zcta.info()"
   ]
  },
  {
   "cell_type": "code",
   "execution_count": null,
   "id": "ee40be76-7560-44d6-9a2d-5449993b283f",
   "metadata": {},
   "outputs": [],
   "source": [
    "# View the Boston Region ZCTAs.\n",
    "boston_zcta"
   ]
  },
  {
   "cell_type": "code",
   "execution_count": null,
   "id": "f2237a5e-431d-4102-8477-5cc37eb03284",
   "metadata": {},
   "outputs": [],
   "source": [
    "# Plot the Boston Region ZCTAs.\n",
    "boston_zcta.plot(figsize=(12,12))\n",
    "plt.title('ZCTAs within Boston Region', fontsize=16)\n",
    "plt.show()"
   ]
  },
  {
   "cell_type": "markdown",
   "id": "4ea3f32c-8350-4ecd-b02b-78f9c77ae0d3",
   "metadata": {},
   "source": [
    "### Define Functions `convert_n_clip` and `read_n_clip`\n",
    "`convert_n_clip` takes two GeoDataFrames (GDF): one to process (gdf) and one whose extent will be used to clip. The function converts the coordinate reference system (CRS) of the original GDF and clips it to the extent of the extent GDF."
   ]
  },
  {
   "cell_type": "code",
   "execution_count": null,
   "id": "14fb3c87-d0cd-4588-a7fc-238c1f3ce73a",
   "metadata": {},
   "outputs": [],
   "source": [
    "def convert_n_clip(orig_gdf, extent_gdf):\n",
    "    \"\"\"\n",
    "    Takes two GeoDataFrames (GDF): one to process (orig_gdf) and one whose extent will be used to clip (extent_gdf).\n",
    "    Converts the coordinate reference system (CRS) of the orig_gdf to the CRS of extent_gdf.\n",
    "    Clips to the extent of orig_gdf to the extent of extent_gdf.\n",
    "    Returns clipped GDF.\n",
    "    \n",
    "    Inputs:\n",
    "    orig_gdf = GDF to process\n",
    "    extent_gdf = GDF whose extent to use\n",
    "    \n",
    "    Example:\n",
    "    ma_schools = convert_n_clip(usa_schools, ma_boundary)\n",
    "    \"\"\"\n",
    "    orig_gdf = orig_gdf.to_crs(extent_gdf.crs)\n",
    "    clipped_gdf = gpd.clip(orig_gdf, extent_gdf)\n",
    "    return clipped_gdf   "
   ]
  },
  {
   "cell_type": "markdown",
   "id": "7f1739b1-1e84-421a-88d5-dadce4e039d9",
   "metadata": {},
   "source": [
    "`read_n_clip` takes a filepath for a shapefile and a GDF whose extent will be used to clip the shapefile. The function reads in the shapefile and uses `convert_n_clip` to convert the coordinate reference system (CRS) of the original GDF and clip it to the extent of the extent GDF."
   ]
  },
  {
   "cell_type": "code",
   "execution_count": null,
   "id": "dfd3d1d8-407c-4f44-a8f7-37d9d319b678",
   "metadata": {},
   "outputs": [],
   "source": [
    "def read_n_clip(filepath, extent_gdf):\n",
    "    \"\"\"\n",
    "    Takes a filepath for a shapefile and a GeoDataFrame (GDF).\n",
    "    Reads in the file.\n",
    "    Uses convert_n_clip function to convert to the coordinate reference system (CRS)\n",
    "    of the GDF and clip to the extent of the GDF. \n",
    "    Returns clipped GDF.\n",
    "    \n",
    "    Inputs:\n",
    "    filepath = relative filepath for shapefile to read\n",
    "    extent_gdf = GDF whose extent to use\n",
    "    \n",
    "    Example:\n",
    "    ma_water = read_n_clip('./data/usa/water.shp', ma_boundary)\n",
    "    \"\"\"\n",
    "    shapefile = gpd.read_file(filepath)\n",
    "    clipped_shapefile = convert_n_clip(shapefile, extent_gdf)\n",
    "    return clipped_shapefile"
   ]
  },
  {
   "cell_type": "code",
   "execution_count": null,
   "id": "6d558443-0e90-41e1-a376-2b29b6ddab72",
   "metadata": {},
   "outputs": [],
   "source": [
    "# read_n_clip Boston surface water.\n",
    "boston_water = read_n_clip('./data/hydro25k/HYDRO25K_POLY.shp', boston_zcta)\n",
    "print(boston_water.crs)\n",
    "boston_water.info()"
   ]
  },
  {
   "cell_type": "code",
   "execution_count": null,
   "id": "b449117d-8061-45c8-9600-58526d7a982a",
   "metadata": {},
   "outputs": [],
   "source": [
    "# Plot the Boston Region ZCTAs with surface water.\n",
    "ax = boston_zcta.plot(color='lightgrey', edgecolor='grey', figsize=(12,12))\n",
    "boston_water.plot(ax=ax)\n",
    "plt.title('ZCTAs and Waterways within Boston Region', fontsize=16)\n",
    "plt.show()"
   ]
  },
  {
   "cell_type": "markdown",
   "id": "0b527bd0-e30f-4b0e-a937-ab847e20bc47",
   "metadata": {},
   "source": [
    "## Find Tufts University and Boston University Locations\n",
    "To find the locations of Tufts University and Boston University (BU), the Massachusetts Colleges and Universities shapefile was processed with `read_n_clip` to read the shapefile and clip it to the extent of `boston_zcta`. Tufts and BU were then extracted into a GeoDataGrame."
   ]
  },
  {
   "cell_type": "code",
   "execution_count": null,
   "id": "c12237d8-9332-41c3-8ddb-e01998d60a1c",
   "metadata": {},
   "outputs": [],
   "source": [
    "# read_n_clip Boston MPO colleges.\n",
    "colleges = read_n_clip('./data/colleges/COLLEGES_PT.shp', boston_zcta)\n",
    "print(colleges.crs)\n",
    "colleges.info()"
   ]
  },
  {
   "cell_type": "code",
   "execution_count": null,
   "id": "1cd2b35c-aefa-4e92-91b9-eca30d3c7049",
   "metadata": {},
   "outputs": [],
   "source": [
    "# Plot Boston MPO colleges.\n",
    "ax = boston_zcta.plot(color='lightgrey', edgecolor='grey', figsize=(12,12))\n",
    "boston_water.plot(ax=ax, alpha=0.3)\n",
    "colleges.plot(ax=ax, color='maroon')\n",
    "plt.title('Colleges in Boston Region MPO', fontsize=16)\n",
    "plt.show()"
   ]
  },
  {
   "cell_type": "code",
   "execution_count": null,
   "id": "c114479f-8cfc-459a-8965-ae1544e1443f",
   "metadata": {},
   "outputs": [],
   "source": [
    "# List all college names.\n",
    "college_list = list(colleges.COLLEGE.unique())\n",
    "college_list"
   ]
  },
  {
   "cell_type": "code",
   "execution_count": null,
   "id": "529ad562-1e1a-4d04-8d18-2fd0305ed8d8",
   "metadata": {},
   "outputs": [],
   "source": [
    "# Select only names matching Tufts University or Boston University.\n",
    "colleges_select = colleges.loc[colleges.COLLEGE.isin(['Tufts University', 'Boston University'])]\n",
    "colleges_select"
   ]
  },
  {
   "cell_type": "code",
   "execution_count": null,
   "id": "890298fb-d932-4fcc-8547-99df12057fec",
   "metadata": {},
   "outputs": [],
   "source": [
    "# Select only the Medford/Somerville Tufts Campus and the main BU Campus.\n",
    "tufts_bu = colleges_select.iloc[[0, 1]]\n",
    "tufts_bu"
   ]
  },
  {
   "cell_type": "code",
   "execution_count": null,
   "id": "c9ea5a53-47e1-4ec2-90a0-5223325057c6",
   "metadata": {},
   "outputs": [],
   "source": [
    "# Plot Tufts and BU.\n",
    "ax = boston_zcta.plot(color='lightgrey', edgecolor='grey', figsize=(12,12))\n",
    "boston_water.plot(ax=ax, alpha=0.3)\n",
    "tufts_bu.plot(ax=ax, color='maroon', markersize=50)\n",
    "plt.title('Tufts University and Boston Universtiy Over Boston Region MPO', fontsize=16)\n",
    "plt.show()"
   ]
  },
  {
   "cell_type": "markdown",
   "id": "c74ad497-51db-4cbf-ac33-e5d827b5403b",
   "metadata": {},
   "source": [
    "## Import Mass Transit Stops and Routes"
   ]
  },
  {
   "cell_type": "markdown",
   "id": "0979ce69-6c0b-4026-8bcd-9e1645a4752c",
   "metadata": {},
   "source": [
    "### MBTA Bus Stops"
   ]
  },
  {
   "cell_type": "code",
   "execution_count": null,
   "id": "662f7ac2-f35f-425c-a989-5be107f05d26",
   "metadata": {},
   "outputs": [],
   "source": [
    "# read_n_clip MBTA bus stops and view info.\n",
    "bos_bus = read_n_clip('./data/MBTA_Bus_Routes_and_Stops/MBTA_Bus_Routes_and_Stops.shp', boston_zcta)\n",
    "print(bos_bus.crs)\n",
    "bos_bus.info()"
   ]
  },
  {
   "cell_type": "markdown",
   "id": "838c6bd2-8eb9-41d8-b4f4-49aeb22c8bd9",
   "metadata": {},
   "source": [
    "### MBTA Rapid Transit (T) Stops and Routes"
   ]
  },
  {
   "cell_type": "code",
   "execution_count": null,
   "id": "8adc3a2a-b635-4c99-b9a1-733681435546",
   "metadata": {},
   "outputs": [],
   "source": [
    "# read_n_clip MBTA rapid transit (T) stops and view info.\n",
    "bos_rt_node = read_n_clip('./data/mbta_rapid_transit/MBTA_NODE.shp', boston_zcta)\n",
    "print(bos_rt_node.crs)\n",
    "bos_rt_node.info()"
   ]
  },
  {
   "cell_type": "code",
   "execution_count": null,
   "id": "87bc469a-ed14-491f-b4dc-c3a2c45dd1af",
   "metadata": {},
   "outputs": [],
   "source": [
    "# read_n_clip MBTA rapid transit (T) routes and view info.\n",
    "bos_rt_route = read_n_clip('./data/mbta_rapid_transit/MBTA_ARC.shp', boston_zcta)\n",
    "print(bos_rt_route.crs)\n",
    "bos_rt_route.info()"
   ]
  },
  {
   "cell_type": "markdown",
   "id": "6b8e6df8-5ab3-43a0-8566-7d6273c18428",
   "metadata": {},
   "source": [
    "### Commuter Rail Stops and Routes"
   ]
  },
  {
   "cell_type": "code",
   "execution_count": null,
   "id": "0ec3f72f-2527-4b38-acf2-840fe614d31a",
   "metadata": {},
   "outputs": [],
   "source": [
    "# read_n_clip Commuter Rail stops and view info.\n",
    "bos_train_node = read_n_clip('./data/trains/TRAINS_NODE.shp', boston_zcta)\n",
    "print(bos_train_node.crs)\n",
    "bos_train_node.info()"
   ]
  },
  {
   "cell_type": "code",
   "execution_count": null,
   "id": "14584c23-38d4-419b-b2a5-f651c81a7f82",
   "metadata": {},
   "outputs": [],
   "source": [
    "# read_n_clip Commuter Rail routes and view info.\n",
    "bos_train_route = read_n_clip('./data/trains/TRAINS_RTE_TRAIN.shp', boston_zcta)\n",
    "print(bos_train_route.crs)\n",
    "bos_train_route.info()"
   ]
  },
  {
   "cell_type": "markdown",
   "id": "89b5c79a-335f-4051-a32b-5f5a98a9c3bd",
   "metadata": {},
   "source": [
    "### Map Mass Transit with Base Map"
   ]
  },
  {
   "cell_type": "code",
   "execution_count": null,
   "id": "8db5e741-9c72-41b0-a472-5e7837174516",
   "metadata": {},
   "outputs": [],
   "source": [
    "ax = boston_zcta.plot(color='lightgrey', edgecolor='grey', figsize=(12,12))\n",
    "boston_water.plot(ax=ax, alpha=0.3)\n",
    "bos_bus.plot(ax=ax, color='red', markersize=5, label='Bus Stop')\n",
    "bos_rt_node.plot(ax=ax, color='green', markersize=15, label='Rapid Transit Stop')\n",
    "bos_rt_route.plot(ax=ax, color='green', label='Rapid Transit Route')\n",
    "bos_train_node.plot(ax=ax, color='purple', markersize=20, label='Train Stop')\n",
    "bos_train_route.plot(ax=ax, color='purple', label='Train Route')\n",
    "tufts_bu.plot(ax=ax, color='maroon', markersize=50)\n",
    "plt.title('Mass Transit in Boston Region MPO', fontsize=16)\n",
    "plt.legend()\n",
    "plt.show()"
   ]
  },
  {
   "cell_type": "markdown",
   "id": "9f4b2af4-eba3-4f69-90f3-22ce62dd10fc",
   "metadata": {},
   "source": [
    "## Limit Study Area to Extent of Rapid Transit\n",
    "Judging by the vast extent of mass transit and the locations of Tufts and BU, the outer ZCTAs within the Boston Region MPO are untenable for regular commutes to campus. The T is more commonly (and reasonably) used for commuting. To limit the study area to the extent of the T for a more realistic comparison of ZCTAs, the following steps were used:\n",
    "1. Extract the rectangular bounds of MBTA Rapid Transit (T) stops.\n",
    "1. Create a bounding box with `shapely.geometry.box`.\n",
    "1. Add a buffer to the bounding box and store as a new extent.\n",
    "1. Extract Boston Region ZCTAs whose centroids are within the extent."
   ]
  },
  {
   "cell_type": "code",
   "execution_count": null,
   "id": "1ead19eb-7001-43de-ba3d-b55eec2cdf8f",
   "metadata": {},
   "outputs": [],
   "source": [
    "# Extract bounds of Boston Rapid Transit (T) nodes.\n",
    "rt_bounds = bos_rt_node.geometry.total_bounds\n",
    "rt_bounds"
   ]
  },
  {
   "cell_type": "code",
   "execution_count": null,
   "id": "353ea1b6-0cc3-42aa-93f3-2a5b2ff60736",
   "metadata": {},
   "outputs": [],
   "source": [
    "# Creating bounding box with shapely.geometry.box\n",
    "# shapely.geometry.box(minx, miny, maxx, maxy, ccw=True)\n",
    "rt_bound_box = box(rt_bounds[0], rt_bounds[1], rt_bounds[2], rt_bounds[3])\n",
    "rt_bound_box"
   ]
  },
  {
   "cell_type": "code",
   "execution_count": null,
   "id": "a56f517e-9121-4f43-838b-a30dd29fc7ae",
   "metadata": {},
   "outputs": [],
   "source": [
    "# Store the extent as a Shapely Polygon in a variable called graph_extent.\n",
    "graph_extent = rt_bound_box.buffer(0.1, join_style=2)\n",
    "graph_extent"
   ]
  },
  {
   "cell_type": "code",
   "execution_count": null,
   "id": "48d16790-4509-4b49-949a-86129ae6870d",
   "metadata": {},
   "outputs": [],
   "source": [
    "# Extract Boston Region ZCTAs within the graph extent using the centroid of the ZCTAs.\n",
    "rt_zcta = boston_zcta[boston_zcta.centroid.within(graph_extent)]\n",
    "rt_zcta.info()"
   ]
  },
  {
   "cell_type": "code",
   "execution_count": null,
   "id": "173acc84-c280-4a84-a202-693c059743e9",
   "metadata": {},
   "outputs": [],
   "source": [
    "# View first five rows of rt_zcta.\n",
    "rt_zcta.head()"
   ]
  },
  {
   "cell_type": "code",
   "execution_count": null,
   "id": "6660f456-afe3-47ab-82f3-32e207a3025c",
   "metadata": {},
   "outputs": [],
   "source": [
    "# Plot the Boston Region ZCTAs within graph extent to confirm success.\n",
    "ax = rt_zcta.plot(color='lightgrey', edgecolor='grey', figsize=(12,12))\n",
    "bos_rt_node.plot(ax=ax, color='green', markersize=15, label='Rapid Transit Stop')\n",
    "bos_rt_route.plot(ax=ax, color='green', label='Rapid Transit Route')\n",
    "plt.title('ZCTAs within Boston Region Rapid Transit Extent', fontsize=16)\n",
    "plt.show()"
   ]
  },
  {
   "cell_type": "markdown",
   "id": "67f50f27-c8b2-4de2-9d2f-cc60789e7d8e",
   "metadata": {},
   "source": [
    "### Clip All Relevant GDFs\n",
    "The following GDFs were clipped to the new `rt_zcta` extent:\n",
    "- `boston_water`\n",
    "- `bos_bus`\n",
    "- `bos_train_node`\n",
    "- `bos_train_route`\n",
    "\n",
    "Because `bos_rt_node` was used to create the extent and `bos_rt_route` connects all T stops, `bos_rt_route` does not need to be clipped."
   ]
  },
  {
   "cell_type": "code",
   "execution_count": null,
   "id": "58dae8d8-2f8e-4022-afdb-db99624926f5",
   "metadata": {},
   "outputs": [],
   "source": [
    "# Clip all relevant GDFs.\n",
    "boston_water = gpd.clip(boston_water, rt_zcta)\n",
    "bos_bus = gpd.clip(bos_bus, rt_zcta)\n",
    "bos_train_route = gpd.clip(bos_train_route, rt_zcta)\n",
    "bos_train_node = gpd.clip(bos_train_node, rt_zcta)"
   ]
  },
  {
   "cell_type": "code",
   "execution_count": null,
   "id": "62f3fcfa-87f5-4efe-ade7-7baa4cfb8fd6",
   "metadata": {},
   "outputs": [],
   "source": [
    "# Plot new extent with mass transit and schools.\n",
    "ax = rt_zcta.plot(color='lightgrey', edgecolor='grey', figsize=(12,12))\n",
    "boston_water.plot(ax=ax, alpha=0.3)\n",
    "bos_bus.plot(ax=ax, color='red', markersize=1, label='Bus Stop')\n",
    "bos_rt_node.plot(ax=ax, color='green', markersize=15, label='Rapid Transit Stop')\n",
    "bos_rt_route.plot(ax=ax, color='green', label='Rapid Transit Route')\n",
    "bos_train_node.plot(ax=ax, color='purple', markersize=20, label='Train Stop')\n",
    "bos_train_route.plot(ax=ax, color='purple', label='Train Route')\n",
    "tufts_bu.plot(ax=ax, color='maroon', markersize=50)\n",
    "plt.title('Mass Transit within Boston Region Rapid Transit Extent', fontsize=16)\n",
    "plt.legend()\n",
    "plt.show()"
   ]
  },
  {
   "cell_type": "markdown",
   "id": "fd1e1cfe-ef75-453e-951e-fee8e6c2be17",
   "metadata": {
    "tags": []
   },
   "source": [
    "#### TEST CODE"
   ]
  },
  {
   "cell_type": "markdown",
   "id": "4f086a92-778b-4948-91b4-65d84f20b83b",
   "metadata": {
    "tags": []
   },
   "source": [
    "bos_bus.head()"
   ]
  },
  {
   "cell_type": "markdown",
   "id": "8526b0dd-2bf1-46ae-9b04-378390e808e1",
   "metadata": {
    "tags": []
   },
   "source": [
    "bos_bus_latlong = bos_bus.to_crs('epsg:4326')\n",
    "bos_bus_latlong"
   ]
  },
  {
   "cell_type": "markdown",
   "id": "4d5e6254-2310-4635-9637-5b9a4098cfc5",
   "metadata": {
    "tags": []
   },
   "source": [
    "bos_bus['latitude'] = bos_bus_latlong.geometry.y\n",
    "bos_bus['longitude'] = bos_bus_latlong.geometry.x\n",
    "bos_bus.head()"
   ]
  },
  {
   "cell_type": "markdown",
   "id": "62df06ef-3e33-478f-9302-4efa7f25ced0",
   "metadata": {
    "tags": []
   },
   "source": [
    "m_1 = folium.Map(location=[42.32, -71.0589], tiles='openstreetmap', zoom_start=20)\n",
    "mc_1 = MarkerCluster()\n",
    "for idx, row in bos_bus.iterrows():\n",
    "    mc_1.add_child(folium.Marker([row['latitude'], row['longitude']], icon=folium.Icon(color='red', icon='bus')))\n",
    "\n",
    "mc_1.add_to(m_1)\n",
    "m_1"
   ]
  },
  {
   "cell_type": "markdown",
   "id": "cd19438f-8c88-4c52-a3bb-2b52954008fd",
   "metadata": {},
   "source": [
    "## Analyze Mass Transit Stops\n",
    "As Tufts University and Boston University are fairly far walking distance from one another, it is crucial that the home's location be easily accessible by mass transit. Transit stops were selected as an indicator for convenience of mass transit. While the routes are also important to consider, the stops are the on-off points to transit lines and necessary to accessing the transit systems.\n",
    "\n",
    "The density of mass transit stops was calculated with the following steps:\n",
    "1. Function `count_records` was created to count the number of records in a GDF within polygons of another GDF.\n",
    "1. `count_records` was used on the GDFs for bus stops, T stops, and train stops in the limited `rt_zcta` extent.\n",
    "1. Function `multimerge` was created to merge multiple DataFrames on the same column or list of columns. \n",
    "1. `multimerge` was used to add all mass transit stop counts to `rt_zcta` \n",
    "1. Total stops and stop density were calculated for all ZCTAs and mapped."
   ]
  },
  {
   "cell_type": "markdown",
   "id": "35757567-48bb-4f48-97c4-2a72ab5baaad",
   "metadata": {},
   "source": [
    "### Count Public Transit Nodes per ZCTA"
   ]
  },
  {
   "cell_type": "markdown",
   "id": "3043de36-f102-41d1-89c5-0660ae94303d",
   "metadata": {},
   "source": [
    "#### Define Function `count_records`\n",
    "`count_records` takes a GeoDataFrame of records to count and a GDF of polygons to count how many records are within each polygon. It outputs a DataFrame with the specified polygon column and counts. The optional argument `op` for `gpd.sjoin` defaults to `'within'` unless otherwise specified."
   ]
  },
  {
   "cell_type": "code",
   "execution_count": null,
   "id": "bc210713-eb1e-4e8b-b28e-4fc6895235db",
   "metadata": {},
   "outputs": [],
   "source": [
    "def count_records(records_gdf, polygon_gdf, polygon_col, count_col, op='within'):\n",
    "    \"\"\"\n",
    "    Takes a GeoDataFrame of records to count and a GDF of polygons to count how \n",
    "    many records are within each polygon. \n",
    "    Outputs a DataFrame with the specified polygon column and counts.\n",
    "    Optional argument op defaults to 'within' unless otherwise specified.\n",
    "    \n",
    "    Inputs:\n",
    "    records_gdf = GDF of records to count\n",
    "    polygon_gdf = GDF of polygons to count from\n",
    "    polygon_col = name of column in polygon_gdf\n",
    "        e.g. 'name'\n",
    "    count_col = name of column for counts in output\n",
    "        e.g. 'tree_count'\n",
    "    op = op argument for sjoin; defaults to 'within' unless otherwise specified\n",
    "    \n",
    "    Example:\n",
    "    tree_count = count_records(trees, towns, 'name', 'tree_count')\n",
    "    \"\"\"\n",
    "    spatial_join = gpd.sjoin(records_gdf, polygon_gdf, how='left', op=op)\n",
    "    records_count = spatial_join[polygon_col].value_counts().reset_index()\n",
    "    records_count.columns = [polygon_col, count_col]\n",
    "    return records_count"
   ]
  },
  {
   "cell_type": "markdown",
   "id": "7082c90e-41f7-4741-a14f-2bf7a5ab4c67",
   "metadata": {},
   "source": [
    "#### Count MBTA Bus Stops per ZCTA"
   ]
  },
  {
   "cell_type": "code",
   "execution_count": null,
   "id": "a8922cb8-11bd-4e69-8e8a-1c4d569f54df",
   "metadata": {},
   "outputs": [],
   "source": [
    "# count_records for bos_bus within rt_zcta.\n",
    "zcta_bus_count = count_records(bos_bus, rt_zcta, 'ZCTA5CE00', 'bus_stop_count')\n",
    "zcta_bus_count.describe()"
   ]
  },
  {
   "cell_type": "markdown",
   "id": "35082cc3-c213-4c90-92c0-d6b2c447a0e2",
   "metadata": {},
   "source": [
    "#### Count MBTA T Stops per ZCTA"
   ]
  },
  {
   "cell_type": "code",
   "execution_count": null,
   "id": "01cb1f3c-1b8d-4b1c-b3ba-58b85dd32957",
   "metadata": {},
   "outputs": [],
   "source": [
    "# count_records for bos_rt_node within rt_zcta.\n",
    "zcta_rt_count = count_records(bos_rt_node, rt_zcta, 'ZCTA5CE00', 'rt_stop_count')\n",
    "zcta_rt_count.describe()"
   ]
  },
  {
   "cell_type": "markdown",
   "id": "15766b01-d1a2-4fec-b4c8-f2185ebe31a1",
   "metadata": {},
   "source": [
    "#### Count Commuter Rail Stops per ZCTA"
   ]
  },
  {
   "cell_type": "code",
   "execution_count": null,
   "id": "d0b10f05-34d8-4031-9eb2-63f7ab92ff7e",
   "metadata": {},
   "outputs": [],
   "source": [
    "# count_records for bos_train_node within rt_zcta.\n",
    "zcta_train_count = count_records(bos_train_node, rt_zcta, 'ZCTA5CE00', 'train_stop_count')\n",
    "zcta_train_count.describe()"
   ]
  },
  {
   "cell_type": "markdown",
   "id": "36acfbd0-e2de-46bb-9af4-8829b4e03cfa",
   "metadata": {},
   "source": [
    "### Define Function `multimerge`\n",
    "`multimerge` takes a base DataFrame (DF) and merges it with each DF in a list of DataFrames on the specified column or list of columns and with the specified 'how'. The function assumes the specified column(s) exist(s) across all DFs."
   ]
  },
  {
   "cell_type": "code",
   "execution_count": null,
   "id": "5cd156ed-df25-40f4-abd5-d335e98f6418",
   "metadata": {},
   "outputs": [],
   "source": [
    "def multimerge(left_df, df_list, on_col, how):\n",
    "    \"\"\"\n",
    "    Takes a base DataFrame and merges with a list of DataFrames on the \n",
    "    specified column or list of columns and with the specified 'how'.\n",
    "    Assumes on_col exists across all DFs.\n",
    "    \n",
    "    Inputs:\n",
    "    left_df = base DF\n",
    "    df_list = list of DFS\n",
    "        e.g. [df1, df2, df3]\n",
    "    on_col = bracketed column name or list of columns (same across DFs)\n",
    "        e.g. ['name'], ['name', 'address']\n",
    "    how = how argument\n",
    "        e.g. 'left'\n",
    "    \n",
    "    Example:\n",
    "    town_schools = multimerge(town, [elem, middle, high], ['town_name'], 'left')\n",
    "    \"\"\"\n",
    "    merge_df = left_df.copy()\n",
    "    for i in range(len(df_list)):\n",
    "        merge_df = merge_df.merge(df_list[i], on=on_col, how=how)\n",
    "    return merge_df"
   ]
  },
  {
   "cell_type": "markdown",
   "id": "6bcecbae-dc81-4219-b5e4-75335975084c",
   "metadata": {},
   "source": [
    "### Calculate Mass Transit Density per ZCTA"
   ]
  },
  {
   "cell_type": "code",
   "execution_count": null,
   "id": "c824baff-c653-4339-bf89-552463d54284",
   "metadata": {},
   "outputs": [],
   "source": [
    "# Merge rt_zcta with all transit stop counts\n",
    "count_list = [zcta_bus_count, zcta_rt_count, zcta_train_count]\n",
    "zcta_nodes = multimerge(rt_zcta, count_list, ['ZCTA5CE00'], 'left').fillna(0)\n",
    "zcta_nodes.info()"
   ]
  },
  {
   "cell_type": "code",
   "execution_count": null,
   "id": "a6786c40-6d01-4c05-b5a4-467f9ad597f1",
   "metadata": {},
   "outputs": [],
   "source": [
    "# View first five rows of new GDF.\n",
    "zcta_nodes.head()"
   ]
  },
  {
   "cell_type": "code",
   "execution_count": null,
   "id": "c38dc16a-f02e-47bb-b986-fcd2fd59b602",
   "metadata": {},
   "outputs": [],
   "source": [
    "# Calculate total transit stops in each ZCTA.\n",
    "zcta_nodes['nodes_count'] = zcta_nodes.bus_stop_count + zcta_nodes.rt_stop_count + zcta_nodes.train_stop_count\n",
    "zcta_nodes"
   ]
  },
  {
   "cell_type": "code",
   "execution_count": null,
   "id": "3b795e17-2321-46b0-b463-fdb8f9998e96",
   "metadata": {},
   "outputs": [],
   "source": [
    "# Map the number of transit stops in each ZCTA.\n",
    "ax = zcta_nodes.plot(column = 'nodes_count',\n",
    "                      legend = True,\n",
    "                      edgecolor = 'black',\n",
    "                      cmap = 'OrRd',\n",
    "                      figsize = (12, 12),\n",
    "                      legend_kwds={'label': \"Number of Mass Transit Stops\"})\n",
    "plt.title('Number of Mass Transit Stops by ZCTA in Boston Region', fontsize = 20)\n",
    "plt.show()"
   ]
  },
  {
   "cell_type": "code",
   "execution_count": null,
   "id": "f962bdf3-f317-4abf-9ef9-1b1b3f7d2038",
   "metadata": {},
   "outputs": [],
   "source": [
    "# Calculate node density in nodes/sqkm.\n",
    "zcta_nodes['nodes_density'] = zcta_nodes.nodes_count/zcta_nodes.area*(10**6)\n",
    "zcta_nodes.sort_values(by='nodes_density', ascending=False).head()"
   ]
  },
  {
   "cell_type": "code",
   "execution_count": null,
   "id": "b5239fa7-68c3-41ea-9299-2a1983ed4e87",
   "metadata": {},
   "outputs": [],
   "source": [
    "# View statistics for nodes_density.\n",
    "zcta_nodes.nodes_density.describe()"
   ]
  },
  {
   "cell_type": "markdown",
   "id": "af19d430-7301-495d-bd02-cc383cfec16a",
   "metadata": {},
   "source": [
    "The top value for `nodes_density` greatly exceeds the next value, despite having a low `nodes_count`, indicating it is an outlier. The ZCTA in question, ZCTA 02222, appears to contain only TD Garden and North Station. The decision was made to set the `nodes_density` value for ZCTA 02222 to the median value to prevent skewing the analysis."
   ]
  },
  {
   "cell_type": "code",
   "execution_count": null,
   "id": "0bc48c76-672c-47e0-87c6-efdc70029651",
   "metadata": {},
   "outputs": [],
   "source": [
    "# ZCTA 02222 value for nodes_density set to median value.\n",
    "zcta_nodes.loc[68, 'nodes_density'] = zcta_nodes.nodes_density.median()\n",
    "zcta_nodes.sort_values(by='nodes_density', ascending=False).head()"
   ]
  },
  {
   "cell_type": "code",
   "execution_count": null,
   "id": "277e7884-34b6-42f6-b570-68a0637c06c9",
   "metadata": {},
   "outputs": [],
   "source": [
    "# View statistics for nodes_density.\n",
    "zcta_nodes.nodes_density.describe()"
   ]
  },
  {
   "cell_type": "code",
   "execution_count": null,
   "id": "60eba85d-5a42-425e-aae4-7705e7f4c2b9",
   "metadata": {},
   "outputs": [],
   "source": [
    "# Map the density of transit nodes in each ZCTA.\n",
    "ax = zcta_nodes.plot(column = 'nodes_density',\n",
    "                      legend = True,\n",
    "                      edgecolor = 'black',\n",
    "                      cmap = 'OrRd',\n",
    "                      figsize = (12, 12),\n",
    "                      legend_kwds={'label': \"Mass Transit Stops per sqkm\"})\n",
    "plt.title('Density of Mass Transit Stops by ZCTA in Boston Region', fontsize = 20)\n",
    "plt.show()"
   ]
  },
  {
   "cell_type": "markdown",
   "id": "d5710283-e683-43f6-9f18-578caac3e532",
   "metadata": {},
   "source": [
    "## Locations and Density of Necessities\n",
    "Accessibility of necessities and amenities is crucial to living anywhere. For the purposes of this study, necessities were defined as follows:\n",
    "- Food\n",
    "    - Groceries (e.g. supermarkets and food purveryors, like  greengrocers, butchers, etc.)\n",
    "    - Prepared food (e.g. restaurants, cafes, etc.)\n",
    "- Health Services\n",
    "    - Community health centers\n",
    "    - Hospitals\n",
    "    - Healthcare facilities (e.g. doctors' offices, pharmacies, dentists, etc.)\n",
    "- Public Services\n",
    "    - Fire stations\n",
    "    - Police stations\n",
    "    - USPS Post Offices\n",
    "\n",
    "Some data was imported from sources such as MassGIS while others were retrieved using `OpenStreetMap` and `OSMnx`'s `geometries_from_polygon` function."
   ]
  },
  {
   "cell_type": "markdown",
   "id": "52f67c88-6347-411e-bee3-158375e9b8a3",
   "metadata": {},
   "source": [
    "### Create Extent in Latitude-Longitude to Use With `OSMnx`\n",
    "To use `OSMnx geometries_from_polygon`, a polygon needs to be created in latitude-longitude coordinates. This was accomplished with the following steps:\n",
    "1. Convert the T stops shapefile to `EPSG:4326` for lat-long and extract its rectangular bounds.\n",
    "1. Create a bounding box with `shapely.geometry.box`.\n",
    "1. Add a buffer to the bounding box and store as a new extent."
   ]
  },
  {
   "cell_type": "code",
   "execution_count": null,
   "id": "f9101a42-da84-43b4-9621-1201c5833e93",
   "metadata": {},
   "outputs": [],
   "source": [
    "# Extract bounds of T Stops.\n",
    "rt_bounds_latlong = bos_rt_node.to_crs('epsg:4326').geometry.total_bounds\n",
    "rt_bounds_latlong"
   ]
  },
  {
   "cell_type": "code",
   "execution_count": null,
   "id": "d8d1105c-5326-4c23-8fde-60fc6b00bb96",
   "metadata": {},
   "outputs": [],
   "source": [
    "# Creating bounding box with shapely.geometry.box\n",
    "# shapely.geometry.box(minx, miny, maxx, maxy, ccw=True)\n",
    "rt_bound_box_latlong = box(rt_bounds_latlong[0], rt_bounds_latlong[1], rt_bounds_latlong[2], rt_bounds_latlong[3])\n",
    "rt_bound_box_latlong"
   ]
  },
  {
   "cell_type": "code",
   "execution_count": null,
   "id": "89ccc753-3978-44ef-9024-c39f56ea6a5b",
   "metadata": {},
   "outputs": [],
   "source": [
    "# Store the extent as a Shapely Polygon in a variable called graph_extent:\n",
    "graph_extent_latlong = rt_bound_box_latlong.buffer(0.1, join_style=2)\n",
    "print(type(graph_extent_latlong))\n",
    "graph_extent_latlong"
   ]
  },
  {
   "cell_type": "markdown",
   "id": "5f943244-0105-4418-b869-dbb6f3bfefa9",
   "metadata": {},
   "source": [
    "### Food Within Extent"
   ]
  },
  {
   "cell_type": "markdown",
   "id": "ce1f41c4-29de-4a0f-b21e-57249ab39a5c",
   "metadata": {},
   "source": [
    "#### Groceries"
   ]
  },
  {
   "cell_type": "code",
   "execution_count": null,
   "id": "f722fcbb-0561-4675-b54c-f2ea63f8321b",
   "metadata": {},
   "outputs": [],
   "source": [
    "# Retrieve groceries features within graph_extent_latlong from OSMnx and view info.\n",
    "grocery_tags = {'shop':['supermarket', 'greengrocer', 'bakery', 'butcher', 'deli', 'dairy', 'farm', 'seafood']}\n",
    "grocery = ox.geometries_from_polygon(graph_extent_latlong, grocery_tags)\n",
    "grocery = convert_n_clip(grocery, rt_zcta)\n",
    "grocery.info()"
   ]
  },
  {
   "cell_type": "code",
   "execution_count": null,
   "id": "1a39467d-c120-4f83-9246-3d50043a3245",
   "metadata": {},
   "outputs": [],
   "source": [
    "# View first five rows of groceries GDF.\n",
    "grocery.head()"
   ]
  },
  {
   "cell_type": "code",
   "execution_count": null,
   "id": "3ba4a413-16b8-45a0-93d3-cd66be37b8c1",
   "metadata": {},
   "outputs": [],
   "source": [
    "# Use count_records on groceries GDF.\n",
    "zcta_grocery_count = count_records(grocery, rt_zcta, 'ZCTA5CE00', 'grocery_count')\n",
    "zcta_grocery_count"
   ]
  },
  {
   "cell_type": "markdown",
   "id": "99ca5327-ddd4-40b9-bce5-9b6c8a724ce9",
   "metadata": {},
   "source": [
    "#### Prepared food"
   ]
  },
  {
   "cell_type": "code",
   "execution_count": null,
   "id": "d7604270-d7e7-461a-823b-5b1fbef6fc64",
   "metadata": {},
   "outputs": [],
   "source": [
    "# Retrieve prepared food features within graph_extent_latlong from OSMnx and view info.\n",
    "prep_food_tags = {'amenity':['cafe', 'restaurant']}\n",
    "prep_food = ox.geometries_from_polygon(graph_extent_latlong, prep_food_tags)\n",
    "prep_food = convert_n_clip(prep_food, rt_zcta)\n",
    "prep_food.info()"
   ]
  },
  {
   "cell_type": "code",
   "execution_count": null,
   "id": "c6f13856-d15d-418c-8be1-1834a05ae9a1",
   "metadata": {},
   "outputs": [],
   "source": [
    "# View first five rows of prepared food GDF.\n",
    "prep_food.head()"
   ]
  },
  {
   "cell_type": "code",
   "execution_count": null,
   "id": "64f27abd-d1c3-4b98-ab43-9cccab000d15",
   "metadata": {},
   "outputs": [],
   "source": [
    "# Use count_records on prepared food GDF.\n",
    "zcta_prep_food_count = count_records(prep_food, rt_zcta, 'ZCTA5CE00', 'prep_food_count')\n",
    "zcta_prep_food_count"
   ]
  },
  {
   "cell_type": "markdown",
   "id": "2fd75f0c-59bd-4807-9609-c0b44b1598a1",
   "metadata": {},
   "source": [
    "#### Calculate Food Density per ZCTA"
   ]
  },
  {
   "cell_type": "code",
   "execution_count": null,
   "id": "fc758b13-0734-426b-9fdf-8297327484e0",
   "metadata": {},
   "outputs": [],
   "source": [
    "# Merge rt_zcta with all food counts.\n",
    "count_list = [zcta_grocery_count, zcta_prep_food_count]\n",
    "zcta_food = multimerge(rt_zcta, count_list, ['ZCTA5CE00'], 'left').fillna(0)\n",
    "zcta_food.head()"
   ]
  },
  {
   "cell_type": "code",
   "execution_count": null,
   "id": "bec0ae36-3ffb-4c9d-b5d8-032344d75e6e",
   "metadata": {},
   "outputs": [],
   "source": [
    "# Calculate total food establishment in each ZCTA.\n",
    "zcta_food['food_count'] = zcta_food.grocery_count + zcta_food.prep_food_count\n",
    "# Calculate food density in establishments/sqkm.\n",
    "zcta_food['food_density'] = zcta_food.food_count/zcta_food.area*(10**6)\n",
    "zcta_food.sort_values(by='food_density', ascending=False).head()"
   ]
  },
  {
   "cell_type": "markdown",
   "id": "6e62fa66-2d56-4b15-9d2f-4cfa3f6981a5",
   "metadata": {},
   "source": [
    "##### TEST CODE `calc_density`"
   ]
  },
  {
   "cell_type": "code",
   "execution_count": 1,
   "id": "dfc70b52-2479-41ee-8245-a3c1334e6061",
   "metadata": {},
   "outputs": [],
   "source": [
    "def calc_density(orig_gdf, gdf_count_list, on_col, how, count_cols, total_count_col, density_col):\n",
    "    \"\"\"\n",
    "    The purpose of this function is to calculate the density of a set of records\n",
    "    in a GeoDataFrame of polygons.\n",
    "    Takes a base GeoDataFrame and, using function multimerge, merges it with a list of GeoDataFrames \n",
    "    on the specified column or list of columns and with the specified 'how'.\n",
    "    Adds together the counts in specified columns, then calculates the density.\n",
    "    Assumes on_col exists across all DFs.\n",
    "    Assumes units of the GDF are in meters, with density output of per sqkm.\n",
    "    \n",
    "    Inputs:\n",
    "    orig_gdf = base GDF\n",
    "    gdf_count_list = list of GDFs with counts to calculate from\n",
    "        e.g. [gdf1, gdf2, gdf3]\n",
    "    on_col = bracketed column name or list of columns (same across GDFs)\n",
    "        e.g. ['name'], ['name', 'address']\n",
    "    how = how argument\n",
    "        e.g. 'left'\n",
    "    count_cols = bracketed list of column names with counts corresponding to gdf_count_list\n",
    "        e.g. ['gdf1_count', 'gdf2_count', 'gdf3_count']\n",
    "    total_count_col = string name for new column with total counts\n",
    "        e.g. 'total_count'\n",
    "    density_col = string name for new column with density (per sqkm)\n",
    "        e.g. 'bike_density'\n",
    "    \n",
    "    Example:\n",
    "    schools = [elem, middle, high]\n",
    "    on_col = ['town_name', 'state']\n",
    "    count_cols = ['elem_classrooms', 'middle_classrooms', 'high_classrooms']\n",
    "    town_schools = multimerge(town, schools, on_col, 'left', count_cols, 'total_classrooms', 'classroom_density')\n",
    "    \"\"\"\n",
    "    density_gdf = multimerge(orig_gdf, gdf_count_list, on_col, how).fillna(0)\n",
    "    density_gdf[total_count_col] = \"\"\n",
    "    for i in range(len(count_cols)):\n",
    "        density_gdf[total_count_col] = density_gdf[total_count_col] + density_gdf[count_cols[i]]\n",
    "    density_gdf[density_col] = density_gdf[total_count_col]/density_gdf.area*(10**6)\n",
    "    return density_gdf"
   ]
  },
  {
   "cell_type": "code",
   "execution_count": null,
   "id": "95db40a6-2191-4ddd-84de-89ae846dcd36",
   "metadata": {},
   "outputs": [],
   "source": [
    "# Map the density of food establishments in each ZCTA.\n",
    "ax = zcta_food.plot(column = 'food_density',\n",
    "                      legend = True,\n",
    "                      edgecolor = 'black',\n",
    "                      cmap = 'OrRd',\n",
    "                      figsize = (12, 12),\n",
    "                      legend_kwds={'label': \"Food establishments per sqkm\"})\n",
    "plt.title('Density of Food Establishments by ZCTA in Boston Region', fontsize = 20)\n",
    "plt.show()"
   ]
  },
  {
   "cell_type": "markdown",
   "id": "db9ec9d3-b734-48b2-a8a2-e78292380a6b",
   "metadata": {},
   "source": [
    "### Health services within extent"
   ]
  },
  {
   "cell_type": "markdown",
   "id": "69102629-3b20-4ac7-808e-db6908067a8c",
   "metadata": {},
   "source": [
    "#### Community Health Centers"
   ]
  },
  {
   "cell_type": "code",
   "execution_count": null,
   "id": "826efde4-9622-4fee-9070-7b9878def662",
   "metadata": {},
   "outputs": [],
   "source": [
    "# read_n_clip Community Health Centers shapefile from MassGIS and view info.\n",
    "comm_health = read_n_clip('./data/chcs/CHCS_PT.shp', rt_zcta)\n",
    "comm_health.info()"
   ]
  },
  {
   "cell_type": "code",
   "execution_count": null,
   "id": "60050ca5-3e4c-4eb9-b2f3-9ba8b5764daa",
   "metadata": {},
   "outputs": [],
   "source": [
    "# View first five rows of comm_health.\n",
    "comm_health.head()"
   ]
  },
  {
   "cell_type": "code",
   "execution_count": null,
   "id": "32961279-3001-493c-8007-1a193cbc2af2",
   "metadata": {},
   "outputs": [],
   "source": [
    "# Use count_records on comm_health.\n",
    "zcta_comm_health_count = count_records(comm_health, rt_zcta, 'ZCTA5CE00', 'comm_health_count')\n",
    "zcta_comm_health_count.info()"
   ]
  },
  {
   "cell_type": "markdown",
   "id": "ee1cac02-7770-4cfb-b38c-e712086cb2c8",
   "metadata": {},
   "source": [
    "#### Hospitals"
   ]
  },
  {
   "cell_type": "code",
   "execution_count": null,
   "id": "06545e70-6858-4c69-aedb-1b4ecdde9e25",
   "metadata": {},
   "outputs": [],
   "source": [
    "# read_n_clip Hospitals shapefile from MassGIS and view info.\n",
    "hospitals = read_n_clip('./data/acute_care_hospitals/HOSPITALS_PT.shp', rt_zcta)\n",
    "hospitals.info()"
   ]
  },
  {
   "cell_type": "code",
   "execution_count": null,
   "id": "eb482b82-9cf6-45de-8fd0-47700f9a77ea",
   "metadata": {},
   "outputs": [],
   "source": [
    "# View first five rows of hospitals.\n",
    "hospitals.head()"
   ]
  },
  {
   "cell_type": "code",
   "execution_count": null,
   "id": "fff7a158-5431-4132-9fcf-313d05eed5b0",
   "metadata": {},
   "outputs": [],
   "source": [
    "# Use count_records on hospitals.\n",
    "zcta_hospitals_count = count_records(hospitals, rt_zcta, 'ZCTA5CE00', 'hospitals_count')\n",
    "zcta_hospitals_count.info()"
   ]
  },
  {
   "cell_type": "markdown",
   "id": "2d4d824d-e1c8-4bab-a810-d353dc1d332b",
   "metadata": {},
   "source": [
    "#### Healthcare"
   ]
  },
  {
   "cell_type": "code",
   "execution_count": null,
   "id": "11c8d10a-e176-445e-bcb1-88cfeee9e6e7",
   "metadata": {},
   "outputs": [],
   "source": [
    "# Retrieve healthcare features within graph_extent_latlong from OSMnx and view info.\n",
    "health_tags = {'healthcare':True, 'amenity':['clinic', 'doctors', 'dentist', 'health_post', 'pharmacy']}\n",
    "healthcare = ox.geometries_from_polygon(graph_extent_latlong, health_tags)\n",
    "healthcare = convert_n_clip(healthcare, rt_zcta)\n",
    "healthcare.info()"
   ]
  },
  {
   "cell_type": "code",
   "execution_count": null,
   "id": "9c2d3c76-4796-4a9c-a291-80c892c7d59d",
   "metadata": {},
   "outputs": [],
   "source": [
    "# View first five rows of healthcare GDF.\n",
    "healthcare.head()"
   ]
  },
  {
   "cell_type": "code",
   "execution_count": null,
   "id": "4edb6bbf-0b23-49d0-bd30-766af75126eb",
   "metadata": {},
   "outputs": [],
   "source": [
    "# Use count_records on healthcare.\n",
    "zcta_healthcare_count = count_records(healthcare, rt_zcta, 'ZCTA5CE00', 'healthcare_count')\n",
    "zcta_healthcare_count.info()"
   ]
  },
  {
   "cell_type": "markdown",
   "id": "56625217-6cb8-439c-9677-4f25d499fff7",
   "metadata": {},
   "source": [
    "#### Calculate health services density per ZCTA"
   ]
  },
  {
   "cell_type": "code",
   "execution_count": null,
   "id": "2f0c9fb9-ec19-4ba3-a0e9-cb5a15fbf223",
   "metadata": {},
   "outputs": [],
   "source": [
    "count_list = [zcta_comm_health_count, zcta_hospitals_count, zcta_healthcare_count]\n",
    "zcta_health = multimerge(rt_zcta, count_list, ['ZCTA5CE00'], 'left').fillna(0)\n",
    "zcta_health.head()"
   ]
  },
  {
   "cell_type": "code",
   "execution_count": null,
   "id": "a0f4cc93-69e6-4a77-ab0d-ba20a1ead7f6",
   "metadata": {},
   "outputs": [],
   "source": [
    "zcta_health['health_count'] = zcta_health.comm_health_count + zcta_health.hospitals_count + zcta_health.healthcare_count\n",
    "zcta_health['health_density'] = zcta_health.health_count/zcta_health.area*(10**6)\n",
    "zcta_health.sort_values(by='health_density', ascending=False).head()"
   ]
  },
  {
   "cell_type": "code",
   "execution_count": null,
   "id": "7e997126-d0f8-478a-bc47-3ec9b154b7b4",
   "metadata": {},
   "outputs": [],
   "source": [
    "# Map the density of transit nodes in each ZCTA.\n",
    "ax = zcta_health.plot(column = 'health_density',\n",
    "                      legend = True,\n",
    "                      edgecolor = 'black',\n",
    "                      cmap = 'OrRd',\n",
    "                      figsize = (12, 12),\n",
    "                      legend_kwds={'label': \"Health services per sqkm\"})\n",
    "plt.title('Density of Health Services by ZCTA in Boston Region', fontsize = 20)\n",
    "plt.show()"
   ]
  },
  {
   "cell_type": "markdown",
   "id": "503a4c3c-2030-41f3-bb02-36826ad82f73",
   "metadata": {},
   "source": [
    "### Public services within extent"
   ]
  },
  {
   "cell_type": "markdown",
   "id": "e9f24c0e-c595-4866-87fd-5f8b76a4de6f",
   "metadata": {},
   "source": [
    "#### Fire Stations"
   ]
  },
  {
   "cell_type": "code",
   "execution_count": null,
   "id": "bf1941be-4640-4dab-b53f-85977798dbcf",
   "metadata": {
    "tags": []
   },
   "outputs": [],
   "source": [
    "# read_n_clip firestations shapefile from MassGIS and view info.\n",
    "fire = read_n_clip('./data/firestations_pt/FIRESTATIONS_PT_MEMA.shp', rt_zcta)\n",
    "fire.info()"
   ]
  },
  {
   "cell_type": "code",
   "execution_count": null,
   "id": "5b3ec5fe-a86d-4339-b819-04c4953a67e8",
   "metadata": {},
   "outputs": [],
   "source": [
    "# View first five rows of fire GDF.\n",
    "fire.head()"
   ]
  },
  {
   "cell_type": "code",
   "execution_count": null,
   "id": "2b782324-f106-44d4-b010-f697a3255344",
   "metadata": {},
   "outputs": [],
   "source": [
    "# Use count_records on fire.\n",
    "zcta_fire_count = count_records(fire, rt_zcta, 'ZCTA5CE00', 'fire_count')\n",
    "zcta_fire_count.info()"
   ]
  },
  {
   "cell_type": "markdown",
   "id": "7487932d-3631-4337-8dc7-515260239e27",
   "metadata": {},
   "source": [
    "#### Police Stations"
   ]
  },
  {
   "cell_type": "code",
   "execution_count": null,
   "id": "141968e9-f7a9-4ec3-aad2-3940844b5552",
   "metadata": {
    "tags": []
   },
   "outputs": [],
   "source": [
    "# read_n_clip police stations shapefile from MassGIS and view info.\n",
    "police = read_n_clip('./data/policestations/POLICESTATIONS_PT_MEMA.shp', rt_zcta)\n",
    "police.info()"
   ]
  },
  {
   "cell_type": "code",
   "execution_count": null,
   "id": "7987b1e2-c0d5-4c0f-b644-c286094c100d",
   "metadata": {
    "tags": []
   },
   "outputs": [],
   "source": [
    "# View first five rows of police GDF.\n",
    "police.head()"
   ]
  },
  {
   "cell_type": "code",
   "execution_count": null,
   "id": "3564c271-51f0-47f1-aa13-5dbb2d1b9d07",
   "metadata": {},
   "outputs": [],
   "source": [
    "# Use count_records on police.\n",
    "zcta_police_count = count_records(police, rt_zcta, 'ZCTA5CE00', 'police_count')\n",
    "zcta_police_count.info()"
   ]
  },
  {
   "cell_type": "markdown",
   "id": "c0315a3c-6073-44f7-b9eb-798ca67bd2ad",
   "metadata": {},
   "source": [
    "#### USPS Post Offices"
   ]
  },
  {
   "cell_type": "code",
   "execution_count": null,
   "id": "b95ef534-4852-43a6-a6c0-aeb8364aaa54",
   "metadata": {},
   "outputs": [],
   "source": [
    "# Read in CSV files of USPS DDUs (Destination Delivery Units) obtained from USPS\n",
    "usps_df = pd.read_csv('./data/USPS DDUs.csv')\n",
    "# Convert to GeoDataFrame, setting CRS to WGS 84 Pseudo Mercator EPSG:3857\n",
    "usps = gpd.GeoDataFrame(usps_df, geometry=gpd.points_from_xy(usps_df.x, usps_df.y))\n",
    "usps = usps.set_crs('epsg:3857')"
   ]
  },
  {
   "cell_type": "code",
   "execution_count": null,
   "id": "add198cd-198e-43c8-a1fc-8838af8a7920",
   "metadata": {},
   "outputs": [],
   "source": [
    "# View usps GDF.\n",
    "usps"
   ]
  },
  {
   "cell_type": "code",
   "execution_count": null,
   "id": "a98005b9-e2ae-4cb8-8338-1d6bf2b7e510",
   "metadata": {},
   "outputs": [],
   "source": [
    "# convert_n_clip usps using rt_zcta\n",
    "usps = convert_n_clip(usps, rt_zcta)\n",
    "usps.info()"
   ]
  },
  {
   "cell_type": "code",
   "execution_count": null,
   "id": "a026f8ae-ace2-4b46-9df1-385f3e9d6e53",
   "metadata": {},
   "outputs": [],
   "source": [
    "# View first five rows of usps GDF.\n",
    "usps.head()"
   ]
  },
  {
   "cell_type": "code",
   "execution_count": null,
   "id": "6a1fb07b-6cb5-4ccd-923d-af52a2642e35",
   "metadata": {},
   "outputs": [],
   "source": [
    "# Use count_records on usps.\n",
    "zcta_usps_count = count_records(usps, rt_zcta, 'ZCTA5CE00', 'usps_count')\n",
    "zcta_usps_count.info()"
   ]
  },
  {
   "cell_type": "markdown",
   "id": "2980d15b-7173-4c4b-9fca-753c5ec25474",
   "metadata": {},
   "source": [
    "#### Calculate Public Services density per ZCTA"
   ]
  },
  {
   "cell_type": "code",
   "execution_count": null,
   "id": "6613bbb9-8b76-4e9c-96b6-54d949209c89",
   "metadata": {},
   "outputs": [],
   "source": [
    "count_list = [zcta_fire_count, zcta_police_count, zcta_usps_count]\n",
    "zcta_public_service = multimerge(rt_zcta, count_list, ['ZCTA5CE00'], 'left').fillna(0)\n",
    "zcta_public_service.head()"
   ]
  },
  {
   "cell_type": "code",
   "execution_count": null,
   "id": "044977a9-6385-4fd5-8e13-28792167eb48",
   "metadata": {},
   "outputs": [],
   "source": [
    "zcta_public_service['public_service_count'] = zcta_public_service.fire_count + zcta_public_service.police_count + zcta_public_service.usps_count\n",
    "zcta_public_service['public_service_density'] = zcta_public_service.public_service_count/zcta_public_service.area*(10**6)\n",
    "zcta_public_service.sort_values(by='public_service_density', ascending=False).head()"
   ]
  },
  {
   "cell_type": "code",
   "execution_count": null,
   "id": "b22fc157-4cf4-482d-929a-8a9c754ad58a",
   "metadata": {},
   "outputs": [],
   "source": [
    "# Map the density of transit nodes in each ZCTA.\n",
    "ax = zcta_public_service.plot(column = 'public_service_density',\n",
    "                      legend = True,\n",
    "                      edgecolor = 'black',\n",
    "                      cmap = 'OrRd',\n",
    "                      figsize = (12, 12),\n",
    "                      legend_kwds={'label': \"Public services per sqkm\"})\n",
    "plt.title('Density of Public Services by ZCTA in Boston Region', fontsize = 20)\n",
    "plt.show()"
   ]
  },
  {
   "cell_type": "code",
   "execution_count": null,
   "id": "cccb74b2-0f97-453d-b5f3-abba106c07cb",
   "metadata": {
    "tags": []
   },
   "outputs": [],
   "source": [
    "ax = rt_zcta.plot(color='lightgrey', edgecolor='grey', figsize=(12,12))\n",
    "boston_water.plot(ax=ax, alpha=0.3)\n",
    "grocery.plot(ax=ax, markersize=15, color='yellow', label='Groceries')\n",
    "healthcare.plot(ax=ax, markersize=15, color='aquamarine', label='Healthcare')\n",
    "comm_health.plot(ax=ax, markersize=15, color='coral', label='Community Health Centers')\n",
    "hospitals.plot(ax=ax, markersize=20, color='orangered', label='Hospitals')\n",
    "public_service.plot(ax=ax, markersize=10, color='dodgerblue', label='Public Services')\n",
    "plt.title('Necessary Amenities within Boston Region Rapid Transit Extent', fontsize=16)\n",
    "plt.legend()\n",
    "plt.show()"
   ]
  },
  {
   "cell_type": "markdown",
   "id": "72fc25a8-5ea6-417f-8b46-9f27e61ec5d4",
   "metadata": {},
   "source": [
    "### Necessities/Amenities per ZCTA"
   ]
  },
  {
   "cell_type": "code",
   "execution_count": null,
   "id": "d2eb0b8e-8396-48b7-a8c8-8e40fbaec8ab",
   "metadata": {},
   "outputs": [],
   "source": [
    "necs_list = [zcta_food, zcta_health, zcta_public_service]\n",
    "cols_list = ['index', 'STATEFP00', 'ZCTA5CE00', 'GEOID00', 'CLASSFP00', 'MTFCC00', 'FUNCSTAT00', 'ALAND00', 'AWATER00', 'INTPTLAT00', 'INTPTLON00', 'PARTFLG00', 'geometry']\n",
    "zcta_necs = multimerge(rt_zcta, necs_list, on_col=cols_list, how='left')\n",
    "zcta_necs"
   ]
  },
  {
   "cell_type": "code",
   "execution_count": null,
   "id": "f97196d9-cbe0-4c99-895b-ba6a0dd40278",
   "metadata": {},
   "outputs": [],
   "source": [
    "zcta_necs.columns"
   ]
  },
  {
   "cell_type": "code",
   "execution_count": null,
   "id": "7d167778-2596-4b31-a894-d9b6574d8846",
   "metadata": {},
   "outputs": [],
   "source": [
    "zcta_necs['necs_count'] = zcta_necs.food_count + zcta_necs.health_count + zcta_necs.public_service_count\n",
    "zcta_necs['necs_density'] = zcta_necs.necs_count/zcta_necs.area*(10**6)\n",
    "zcta_necs.sort_values(by='necs_density', ascending=False).head()"
   ]
  },
  {
   "cell_type": "code",
   "execution_count": null,
   "id": "485850dc-0ad6-46d7-9755-becdcd2a5e25",
   "metadata": {},
   "outputs": [],
   "source": [
    "# Map the density of necessities in each ZCTA.\n",
    "ax = zcta_necs.plot(column = 'necs_density',\n",
    "                      legend = True,\n",
    "                      edgecolor = 'black',\n",
    "                      cmap = 'OrRd',\n",
    "                      figsize = (12, 12),\n",
    "                      legend_kwds={'label': \"Necessities per sqkm\"})\n",
    "plt.title('Density of Necessities by ZCTA in Boston Region', fontsize = 20)\n",
    "plt.show()"
   ]
  },
  {
   "cell_type": "code",
   "execution_count": null,
   "id": "1748ae3a-a4cc-4c07-a6b8-c7f313590ac4",
   "metadata": {},
   "outputs": [],
   "source": []
  },
  {
   "cell_type": "markdown",
   "id": "20417086-a2ce-4a3b-96da-517f91aa1b5a",
   "metadata": {},
   "source": [
    "## Rent Affordability"
   ]
  },
  {
   "cell_type": "code",
   "execution_count": null,
   "id": "5a43d399-be2f-4a33-94ee-1dfc558efd6d",
   "metadata": {},
   "outputs": [],
   "source": []
  },
  {
   "cell_type": "markdown",
   "id": "9fe175d2-7377-4ee9-9c8d-83b37203ed04",
   "metadata": {},
   "source": [
    "## Bike Facilities"
   ]
  },
  {
   "cell_type": "code",
   "execution_count": null,
   "id": "21052740-e380-4d6f-86c4-3bf298e69c49",
   "metadata": {},
   "outputs": [],
   "source": []
  },
  {
   "cell_type": "markdown",
   "id": "50347c54-1126-45a4-b085-2d00f1d65cb2",
   "metadata": {},
   "source": [
    "## Leisure"
   ]
  },
  {
   "cell_type": "code",
   "execution_count": null,
   "id": "8d7d3e6c-3027-4bdc-899e-f757f2b58f05",
   "metadata": {},
   "outputs": [],
   "source": []
  }
 ],
 "metadata": {
  "kernelspec": {
   "display_name": "Python 3",
   "language": "python",
   "name": "python3"
  },
  "language_info": {
   "codemirror_mode": {
    "name": "ipython",
    "version": 3
   },
   "file_extension": ".py",
   "mimetype": "text/x-python",
   "name": "python",
   "nbconvert_exporter": "python",
   "pygments_lexer": "ipython3",
   "version": "3.8.8"
  }
 },
 "nbformat": 4,
 "nbformat_minor": 5
}
